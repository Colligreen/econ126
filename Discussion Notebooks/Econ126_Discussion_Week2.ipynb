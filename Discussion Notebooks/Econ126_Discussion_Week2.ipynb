{
 "cells": [
  {
   "cell_type": "code",
   "execution_count": 1,
   "metadata": {},
   "outputs": [],
   "source": [
    "import matplotlib.pyplot as plt\n",
    "plt.style.use('classic')\n",
    "%matplotlib inline"
   ]
  },
  {
   "cell_type": "markdown",
   "metadata": {},
   "source": [
    "# Discussion: Week 2"
   ]
  },
  {
   "cell_type": "code",
   "execution_count": 2,
   "metadata": {},
   "outputs": [],
   "source": [
    "# Import the NumPy module\n",
    "import numpy as np"
   ]
  },
  {
   "cell_type": "markdown",
   "metadata": {},
   "source": [
    "## Exercise 2: Capital Evolution in the Solow Model\n",
    "\n",
    "Suppose that capital per worker $k_t$ evolves according to the following equation:\n",
    "\n",
    "\\begin{align}\n",
    "k_{t+1} & = 0.12 \\cdot 100 \\cdot k_t^{1/3} + 0.9\\cdot k_t, \\label{eqn:capital}\n",
    "\\end{align}\n",
    "\n",
    "where the first term on the right-hand side implies that the economy has a 12 percent savings rate, that total factor productivity equals 100, and that there is no growth in technology (or \"labor efficiency\"). The second term implies that the rate of capital depreciation is 10 percent (i.e., $1-\\delta = 0.9 \\Rightarrow \\delta = 0.1$). Assume that capital per worker in the initial period $k_0$ is given.\n",
    "\n",
    "The *steady state* quantity of capital per worker is the number $k^*$ such that if $k_t = k^*$, $k_{t+1} = k^*$. Find $k^*$ by dropping the time subscripts in equation (\\ref{eqn:capital}) and solving for $k$. Obtain:\n",
    "\n",
    "\\begin{align}\n",
    "k^* & = \\left(\\frac{0.1}{0.12\\cdot 100}\\right)^{3/2} = 1{,}314.53414\n",
    "\\end{align}"
   ]
  },
  {
   "cell_type": "markdown",
   "metadata": {},
   "source": [
    "### Part (a): Simulate 100 Periods"
   ]
  },
  {
   "cell_type": "code",
   "execution_count": 3,
   "metadata": {},
   "outputs": [
    {
     "name": "stdout",
     "output_type": "stream",
     "text": [
      "[0. 0. 0. 0. 0. 0. 0. 0. 0. 0. 0. 0. 0. 0. 0. 0. 0. 0. 0. 0. 0. 0. 0. 0.\n",
      " 0. 0. 0. 0. 0. 0. 0. 0. 0. 0. 0. 0. 0. 0. 0. 0. 0. 0. 0. 0. 0. 0. 0. 0.\n",
      " 0. 0. 0. 0. 0. 0. 0. 0. 0. 0. 0. 0. 0. 0. 0. 0. 0. 0. 0. 0. 0. 0. 0. 0.\n",
      " 0. 0. 0. 0. 0. 0. 0. 0. 0. 0. 0. 0. 0. 0. 0. 0. 0. 0. 0. 0. 0. 0. 0. 0.\n",
      " 0. 0. 0. 0. 0.]\n"
     ]
    }
   ],
   "source": [
    "# Create a variable called 'k0' equal to to the initial quantity of capital in the economy\n",
    "k0 = 400\n",
    "\n",
    "# Create a variable called 'T' equal to the number of periods after 0 to simulate. Set T = 100\n",
    "T = 100\n",
    "\n",
    "# Use the function np.zeros to create a variable called 'capital' equal to an array of zeros of length T+1\n",
    "capital = np.zeros(T+1)\n",
    "\n",
    "# Print the value of 'capital'\n",
    "print(capital)"
   ]
  },
  {
   "cell_type": "code",
   "execution_count": 4,
   "metadata": {},
   "outputs": [
    {
     "name": "stdout",
     "output_type": "stream",
     "text": [
      "[400.   0.   0.   0.   0.   0.   0.   0.   0.   0.   0.   0.   0.   0.\n",
      "   0.   0.   0.   0.   0.   0.   0.   0.   0.   0.   0.   0.   0.   0.\n",
      "   0.   0.   0.   0.   0.   0.   0.   0.   0.   0.   0.   0.   0.   0.\n",
      "   0.   0.   0.   0.   0.   0.   0.   0.   0.   0.   0.   0.   0.   0.\n",
      "   0.   0.   0.   0.   0.   0.   0.   0.   0.   0.   0.   0.   0.   0.\n",
      "   0.   0.   0.   0.   0.   0.   0.   0.   0.   0.   0.   0.   0.   0.\n",
      "   0.   0.   0.   0.   0.   0.   0.   0.   0.   0.   0.   0.   0.   0.\n",
      "   0.   0.   0.]\n"
     ]
    }
   ],
   "source": [
    "# Set the first element of 'capital' to the value in k0\n",
    "capital[0] = k0\n",
    "\n",
    "# Print the value of 'capital'\n",
    "print(capital)"
   ]
  },
  {
   "cell_type": "code",
   "execution_count": 5,
   "metadata": {},
   "outputs": [
    {
     "name": "stdout",
     "output_type": "stream",
     "text": [
      "[ 400.          448.41675597  495.42424066  540.83444627  584.52034406\n",
      "  626.40223186  666.43723721  704.61114237  740.93195374  775.4248048\n",
      "  808.12789312  839.08922871  868.36402523  896.01260477  922.09871546\n",
      "  946.68818293  969.84783273  991.64463349 1012.14502031 1031.41436557\n",
      " 1049.51657041 1066.51375499 1082.46602951 1097.43133129 1111.46531557\n",
      " 1124.62128999 1136.95018439 1148.50054886 1159.31857453 1169.44813202\n",
      " 1178.93082386 1187.80604749 1196.11106608 1203.88108506 1211.14933252\n",
      " 1217.94714186 1224.30403557 1230.24780921 1235.80461464 1240.99904199\n",
      " 1245.85419985 1250.39179329 1254.63219944 1258.59454041 1262.29675337\n",
      " 1265.75565785 1268.98701999 1272.00561392 1274.82528017 1277.45898122\n",
      " 1279.91885426 1282.21626108 1284.36183543 1286.36552773 1288.23664726\n",
      " 1289.98390207 1291.61543649 1293.13886659 1294.56131345 1295.88943451\n",
      " 1297.12945307 1298.28718594 1299.36806948 1300.377184   1301.31927667\n",
      " 1302.19878305 1303.01984716 1303.78634044 1304.50187942 1305.16984232\n",
      " 1305.79338456 1306.37545328 1306.91880101 1307.42599837 1307.89944599\n",
      " 1308.34138567 1308.75391082 1309.1389762  1309.49840706 1309.83390766\n",
      " 1310.14706924 1310.43937751 1310.71221957 1310.96689047 1311.20459925\n",
      " 1311.42647467 1311.63357048 1311.82687045 1312.00729293 1312.17569525\n",
      " 1312.3328777  1312.47958739 1312.61652173 1312.7443317  1312.86362503\n",
      " 1312.97496896 1313.078893   1313.17589142 1313.26642559 1313.35092616\n",
      " 1313.42979511]\n"
     ]
    }
   ],
   "source": [
    "# Use a for loop to iterate over the additional elemnts of the 'capital' array that need to be computed.\n",
    "for t in np.arange(0,T):\n",
    "    capital[t+1] = 0.12*100*capital[t]**(1/3) + 0.9*capital[t]\n",
    "    \n",
    "# Print the value of 'capital'\n",
    "print(capital)"
   ]
  },
  {
   "cell_type": "code",
   "execution_count": 6,
   "metadata": {},
   "outputs": [
    {
     "name": "stdout",
     "output_type": "stream",
     "text": [
      "1313.429795111732\n"
     ]
    }
   ],
   "source": [
    "# Print the value of  the last element of 'capital'\n",
    "print(capital[-1])"
   ]
  },
  {
   "cell_type": "code",
   "execution_count": 7,
   "metadata": {},
   "outputs": [
    {
     "data": {
      "image/png": "[encoded data removed]",
      "text/plain": [
       "<Figure size 432x288 with 1 Axes>"
      ]
     },
     "metadata": {
      "needs_background": "light"
     },
     "output_type": "display_data"
    }
   ],
   "source": [
    "# Plot the simulated capital per worker\n",
    "plt.plot(capital)\n",
    "plt.title('Simulated capital per worker')\n",
    "plt.grid()"
   ]
  },
  {
   "cell_type": "markdown",
   "metadata": {},
   "source": [
    "### Part (b): Simulate 1,000 Periods"
   ]
  },
  {
   "cell_type": "code",
   "execution_count": 8,
   "metadata": {},
   "outputs": [
    {
     "name": "stdout",
     "output_type": "stream",
     "text": [
      "1314.534138012397\n"
     ]
    }
   ],
   "source": [
    "# Create a variable called 'T' equal to the number of periods after 0 to simulate. Set T = 1000\n",
    "T = 1000\n",
    "\n",
    "# Use the function np.zeros to create a variable called 'capital' equal to an array of zeros of length T+1\n",
    "capital = np.zeros(T+1)\n",
    "\n",
    "# Set the first element of 'capital' to the value in k0\n",
    "capital[0] = k0\n",
    "\n",
    "# Use a for loop to iterate over the additional elemnts of the 'capital' array that need to be computed.\n",
    "for t in np.arange(0,T):\n",
    "    capital[t+1] = 0.12*100*capital[t]**(1/3) + 0.9*capital[t]\n",
    "    \n",
    "# Print the value of  the last element of 'capital'\n",
    "print(capital[-1])"
   ]
  },
  {
   "cell_type": "markdown",
   "metadata": {},
   "source": [
    "### Part (c): Evaluation\n",
    "\n",
    "Provide answers to the follow questions in the next cell.\n",
    "\n",
    "**Question**\n",
    "\n",
    "1. Why is the final value of capital computed in Part (b) closer to the true steady state than the value computed in Part (a)?"
   ]
  },
  {
   "cell_type": "markdown",
   "metadata": {},
   "source": [
    "**Answer**\n",
    "\n",
    "1. Part (b) iterated on the capital evolution equation longer and therefore the capital stock had more \"time\" to approach the steady state. <!-- answer -->"
   ]
  },
  {
   "cell_type": "markdown",
   "metadata": {},
   "source": [
    "## Exercise 1: Unconstrained optimization\n",
    "\n",
    "Consider the quadratic function:\n",
    "    \n",
    "\\begin{align}\n",
    "f(x) & = -7x^2 + 930x + 30\n",
    "\\end{align}\n",
    "    \n",
    "You will use analytic (i.e., pencil and paper) and numerical methods to find the the value of $x$ that maximizes $f(x)$. Another name for $x$ that maximizes $f(x)$ is the *argument of the maximum* value $f(x)$."
   ]
  },
  {
   "cell_type": "markdown",
   "metadata": {},
   "source": [
    "### Part (a): Analytic solution\n",
    "\n",
    "Use standard calculus methods to solve for the value of $x$ that maximizes $f(x)$ to **five decimal places***. Use your answer to complete the sentene in the next cell."
   ]
  },
  {
   "cell_type": "markdown",
   "metadata": {},
   "source": [
    " The value of $x$ that maximizes $f(x)$ is: "
   ]
  },
  {
   "cell_type": "markdown",
   "metadata": {},
   "source": [
    "### Part (b):  Numerical solution\n",
    "\n",
    "In the cells below, you will use NumPy to try to compute the argument of the maximum of $f(x)$."
   ]
  },
  {
   "cell_type": "code",
   "execution_count": 9,
   "metadata": {},
   "outputs": [
    {
     "name": "stdout",
     "output_type": "stream",
     "text": [
      "66.4\n"
     ]
    }
   ],
   "source": [
    "# Use np.arange to create a variable called 'x' that is equal to the numbers 0 through 100 \n",
    "# with a spacing between numbers of 0.1\n",
    "x = np.arange(0,100,0.1)\n",
    "\n",
    "# Create a variable called 'f' that equals f(x) at each value of the array 'x' just defined\n",
    "f = -7*x**2 + 930*x + 30\n",
    "\n",
    "# Use np.argmax to create a variable called xstar equal to the value of 'x' that maximizes the function f(x).\n",
    "xstar = x[np.argmax(f)]\n",
    "\n",
    "# Print the value of xstar\n",
    "print(xstar)"
   ]
  },
  {
   "cell_type": "code",
   "execution_count": 10,
   "metadata": {},
   "outputs": [
    {
     "name": "stdout",
     "output_type": "stream",
     "text": [
      "66.429\n"
     ]
    }
   ],
   "source": [
    "# Use np.arange to create a variable called 'x' that is equal to the numbers 0 through 100 \n",
    "# with a spacing between numbers of 0.001\n",
    "x = np.arange(0,100,0.001)\n",
    "\n",
    "# Create a variable called 'f' that equals f(x) at each value of the array 'x' just defined\n",
    "f = -7*x**2 + 930*x + 30\n",
    "\n",
    "# Use np.argmax to create a variable called xstar equal to the value of 'x' that maximizes the function f(x).\n",
    "xstar = x[np.argmax(f)]\n",
    "\n",
    "# Print the value of xstar\n",
    "print(xstar)"
   ]
  },
  {
   "cell_type": "code",
   "execution_count": 11,
   "metadata": {},
   "outputs": [
    {
     "name": "stdout",
     "output_type": "stream",
     "text": [
      "49.999\n"
     ]
    }
   ],
   "source": [
    "# Use np.arange to create a variable called 'x' that is equal to the numbers 0 through *50*\n",
    "# with a spacing between numbers of 0.001\n",
    "x = np.arange(0,50,0.001)\n",
    "\n",
    "# Create a variable called 'f' that equals f(x) at each value of the array 'x' just defined\n",
    "f = -7*x**2 + 930*x + 30\n",
    "\n",
    "# Use np.argmax to create a variable called xstar equal to the value of 'x' that maximizes the function f(x).\n",
    "xstar = x[np.argmax(f)]\n",
    "\n",
    "# Print the value of xstar\n",
    "print(xstar)"
   ]
  },
  {
   "cell_type": "markdown",
   "metadata": {},
   "source": [
    "### Part (c): Evaluation\n",
    "\n",
    "Provide answers to the follow questions in the next cell.\n",
    "\n",
    "**Questions**\n",
    "\n",
    "1. How did the choice of step size in the array `x` affect the accuracy of the computed results in the first two cells of Part (a)?\n",
    "\n",
    "2. In light of the previous answer, what do you think ?\n",
    "\n",
    "3. In the previous cell, why did NumPy return value for `xstar` that is so different from the solution you derived in Part (a)?"
   ]
  },
  {
   "cell_type": "markdown",
   "metadata": {},
   "source": [
    "**Answers**\n",
    "\n",
    "1. Choosing a smaller step size creates a finer grid of points for which the function $f$ is calculated and therefore the accuracy is improved with a smaller step size. <!-- answer -->\n",
    "2. A smaller step size means that the variable `x` will have more elements and so storing the variable and using it in computations will use more memory and will slow and/or crash the program. <!-- answer -->\n",
    "3. The range of values in the variable `x` doesn't include $x^*$. <!-- answer -->"
   ]
  }
 ],
 "metadata": {
  "anaconda-cloud": {},
  "kernelspec": {
   "display_name": "Python 3",
   "language": "python",
   "name": "python3"
  },
  "language_info": {
   "codemirror_mode": {
    "name": "ipython",
    "version": 3
   },
   "file_extension": ".py",
   "mimetype": "text/x-python",
   "name": "python",
   "nbconvert_exporter": "python",
   "pygments_lexer": "ipython3",
   "version": "3.7.1"
  }
 },
 "nbformat": 4,
 "nbformat_minor": 1
}
