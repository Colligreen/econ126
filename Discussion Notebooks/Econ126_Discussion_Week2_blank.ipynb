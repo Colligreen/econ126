{
    "cells": [
        {
            "cell_type": "code",
            "execution_count": null,
            "metadata": {},
            "outputs": [],
            "source": [
                "import matplotlib.pyplot as plt\n",
                "plt.style.use('classic')\n",
                "%matplotlib inline"
            ]
        },
        {
            "cell_type": "markdown",
            "metadata": {},
            "source": [
                "# Discussion: Week 2"
            ]
        },
        {
            "cell_type": "code",
            "execution_count": null,
            "metadata": {},
            "outputs": [],
            "source": [
                "# Import the NumPy module\n"
            ]
        },
        {
            "cell_type": "markdown",
            "metadata": {},
            "source": [
                "## Exercise 2: Capital Evolution in the Solow Model\n",
                "\n",
                "Suppose that capital per worker $k_t$ evolves according to the following equation:\n",
                "\n",
                "\\begin{align}\n",
                "k_{t+1} & = 0.12 \\cdot 100 \\cdot k_t^{1/3} + 0.9\\cdot k_t, \\label{eqn:capital}\n",
                "\\end{align}\n",
                "\n",
                "where the first term on the right-hand side implies that the economy has a 12 percent savings rate, that total factor productivity equals 100, and that there is no growth in technology (or \"labor efficiency\"). The second term implies that the rate of capital depreciation is 10 percent (i.e., $1-\\delta = 0.9 \\Rightarrow \\delta = 0.1$). Assume that capital per worker in the initial period $k_0$ is given.\n",
                "\n",
                "The *steady state* quantity of capital per worker is the number $k^*$ such that if $k_t = k^*$, $k_{t+1} = k^*$. Find $k^*$ by dropping the time subscripts in equation (\\ref{eqn:capital}) and solving for $k$. Obtain:\n",
                "\n",
                "\\begin{align}\n",
                "k^* & = \\left(\\frac{0.1}{0.12\\cdot 100}\\right)^{3/2} = 1{,}314.53414\n",
                "\\end{align}"
            ]
        },
        {
            "cell_type": "markdown",
            "metadata": {},
            "source": [
                "### Part (a): Simulate 100 Periods"
            ]
        },
        {
            "cell_type": "code",
            "execution_count": null,
            "metadata": {},
            "outputs": [],
            "source": [
                "# Create a variable called 'k0' equal to to the initial quantity of capital in the economy\n",
                "\n",
                "\n",
                "# Create a variable called 'T' equal to the number of periods after 0 to simulate. Set T = 100\n",
                "\n",
                "\n",
                "# Use the function np.zeros to create a variable called 'capital' equal to an array of zeros of length T+1\n",
                "\n",
                "\n",
                "# Print the value of 'capital'\n"
            ]
        },
        {
            "cell_type": "code",
            "execution_count": null,
            "metadata": {},
            "outputs": [],
            "source": [
                "# Set the first element of 'capital' to the value in k0\n",
                "\n",
                "\n",
                "# Print the value of 'capital'\n"
            ]
        },
        {
            "cell_type": "code",
            "execution_count": null,
            "metadata": {},
            "outputs": [],
            "source": [
                "# Use a for loop to iterate over the additional elemnts of the 'capital' array that need to be computed.\n",
                "\n",
                "\n",
                "",
                "# Print the value of 'capital'\n"
            ]
        },
        {
            "cell_type": "code",
            "execution_count": null,
            "metadata": {},
            "outputs": [],
            "source": [
                "# Print the value of  the last element of 'capital'\n"
            ]
        },
        {
            "cell_type": "code",
            "execution_count": null,
            "metadata": {},
            "outputs": [],
            "source": [
                "# Plot the simulated capital per worker\n",
                "\n",
                "\n",
                ""
            ]
        },
        {
            "cell_type": "markdown",
            "metadata": {},
            "source": [
                "### Part (b): Simulate 1,000 Periods"
            ]
        },
        {
            "cell_type": "code",
            "execution_count": null,
            "metadata": {},
            "outputs": [],
            "source": [
                "# Create a variable called 'T' equal to the number of periods after 0 to simulate. Set T = 1000\n",
                "\n",
                "\n",
                "# Use the function np.zeros to create a variable called 'capital' equal to an array of zeros of length T+1\n",
                "\n",
                "\n",
                "# Set the first element of 'capital' to the value in k0\n",
                "\n",
                "\n",
                "# Use a for loop to iterate over the additional elemnts of the 'capital' array that need to be computed.\n",
                "\n",
                "\n",
                "",
                "# Print the value of  the last element of 'capital'\n"
            ]
        },
        {
            "cell_type": "markdown",
            "metadata": {},
            "source": [
                "### Part (c): Evaluation\n",
                "\n",
                "Provide answers to the follow questions in the next cell.\n",
                "\n",
                "**Question**\n",
                "\n",
                "1. Why is the final value of capital computed in Part (b) closer to the true steady state than the value computed in Part (a)?"
            ]
        },
        {
            "cell_type": "markdown",
            "metadata": {},
            "source": [
                "**Answer**\n",
                "\n",
                "1.  "
            ]
        },
        {
            "cell_type": "markdown",
            "metadata": {},
            "source": [
                "## Exercise 1: Unconstrained optimization\n",
                "\n",
                "Consider the quadratic function:\n",
                "    \n",
                "\\begin{align}\n",
                "f(x) & = -7x^2 + 930x + 30\n",
                "\\end{align}\n",
                "    \n",
                "You will use analytic (i.e., pencil and paper) and numerical methods to find the the value of $x$ that maximizes $f(x)$. Another name for $x$ that maximizes $f(x)$ is the *argument of the maximum* value $f(x)$."
            ]
        },
        {
            "cell_type": "markdown",
            "metadata": {},
            "source": [
                "### Part (a): Analytic solution\n",
                "\n",
                "Use standard calculus methods to solve for the value of $x$ that maximizes $f(x)$ to **five decimal places***. Use your answer to complete the sentene in the next cell."
            ]
        },
        {
            "cell_type": "markdown",
            "metadata": {},
            "source": [
                " The value of $x$ that maximizes $f(x)$ is: "
            ]
        },
        {
            "cell_type": "markdown",
            "metadata": {},
            "source": [
                "### Part (b):  Numerical solution\n",
                "\n",
                "In the cells below, you will use NumPy to try to compute the argument of the maximum of $f(x)$."
            ]
        },
        {
            "cell_type": "code",
            "execution_count": null,
            "metadata": {},
            "outputs": [],
            "source": [
                "# Use np.arange to create a variable called 'x' that is equal to the numbers 0 through 100 \n",
                "# with a spacing between numbers of 0.1\n",
                "\n",
                "\n",
                "# Create a variable called 'f' that equals f(x) at each value of the array 'x' just defined\n",
                "\n",
                "\n",
                "# Use np.argmax to create a variable called xstar equal to the value of 'x' that maximizes the function f(x).\n",
                "\n",
                "\n",
                "# Print the value of xstar\n"
            ]
        },
        {
            "cell_type": "code",
            "execution_count": null,
            "metadata": {},
            "outputs": [],
            "source": [
                "# Use np.arange to create a variable called 'x' that is equal to the numbers 0 through 100 \n",
                "# with a spacing between numbers of 0.001\n",
                "\n",
                "\n",
                "# Create a variable called 'f' that equals f(x) at each value of the array 'x' just defined\n",
                "\n",
                "\n",
                "# Use np.argmax to create a variable called xstar equal to the value of 'x' that maximizes the function f(x).\n",
                "\n",
                "\n",
                "# Print the value of xstar\n"
            ]
        },
        {
            "cell_type": "code",
            "execution_count": null,
            "metadata": {},
            "outputs": [],
            "source": [
                "# Use np.arange to create a variable called 'x' that is equal to the numbers 0 through *50*\n",
                "# with a spacing between numbers of 0.001\n",
                "\n",
                "\n",
                "# Create a variable called 'f' that equals f(x) at each value of the array 'x' just defined\n",
                "\n",
                "\n",
                "# Use np.argmax to create a variable called xstar equal to the value of 'x' that maximizes the function f(x).\n",
                "\n",
                "\n",
                "# Print the value of xstar\n"
            ]
        },
        {
            "cell_type": "markdown",
            "metadata": {},
            "source": [
                "### Part (c): Evaluation\n",
                "\n",
                "Provide answers to the follow questions in the next cell.\n",
                "\n",
                "**Questions**\n",
                "\n",
                "1. How did the choice of step size in the array `x` affect the accuracy of the computed results in the first two cells of Part (a)?\n",
                "\n",
                "2. In light of the previous answer, what do you think ?\n",
                "\n",
                "3. In the previous cell, why did NumPy return value for `xstar` that is so different from the solution you derived in Part (a)?"
            ]
        },
        {
            "cell_type": "markdown",
            "metadata": {},
            "source": [
                "**Answers**\n",
                "\n",
                "1.  \n\n",
                "2.  \n\n",
                "3.  "
            ]
        }
    ],
    "metadata": {
        "anaconda-cloud": {},
        "kernelspec": {
            "display_name": "Python 3",
            "language": "python",
            "name": "python3"
        },
        "language_info": {
            "codemirror_mode": {
                "name": "ipython",
                "version": 3
            },
            "file_extension": ".py",
            "mimetype": "text/x-python",
            "name": "python",
            "nbconvert_exporter": "python",
            "pygments_lexer": "ipython3",
            "version": "3.7.1"
        }
    },
    "nbformat": 4,
    "nbformat_minor": 1
}