{
 "cells": [
  {
   "cell_type": "code",
   "execution_count": 1,
   "metadata": {},
   "outputs": [],
   "source": [
    "import numpy as np\n",
    "import matplotlib.pyplot as plt\n",
    "plt.style.use('classic')\n",
    "%matplotlib inline"
   ]
  },
  {
   "cell_type": "markdown",
   "metadata": {},
   "source": [
    "# Discussion: Week 3"
   ]
  },
  {
   "cell_type": "code",
   "execution_count": 2,
   "metadata": {},
   "outputs": [],
   "source": [
    "# Import the Pandas module\n",
    "import pandas as pd"
   ]
  },
  {
   "cell_type": "markdown",
   "metadata": {},
   "source": [
    "\n",
    "## Exercise: Statistics on Cross-Country Income per Capita\n",
    "\n",
    "Objectives:\n",
    "\n",
    "1. Import and manage cross-country GDP per capita data\n",
    "2. Construct plots using imported data\n",
    "\n",
    "For this exercise, we'll make use of a file called `crossCountryIncomePerCapita.csv` from: https://www.briancjenkins.com/data/csv/crossCountryIncomePerCapita.csv (Python code to generate the dataset: https://github.com/letsgoexploring/economic-data)."
   ]
  },
  {
   "cell_type": "markdown",
   "metadata": {},
   "source": [
    "### Part (a): Import Data and Inspect the `DataFrame`\n",
    "\n",
    "In the first part of the exercise, you will import the dataset and use some basic Pandas operations to explore some properties of the `DataFrame` that you create. The csv file that you import has years in the leftmost column. Pass the optional argument `parse_dates=True` to `pd.read_csv()` so that Pandas interprets the year numbers as dates. This is handy for graphing, among other things."
   ]
  },
  {
   "cell_type": "code",
   "execution_count": 3,
   "metadata": {},
   "outputs": [
    {
     "name": "stdout",
     "output_type": "stream",
     "text": [
      "            Argentina - ARG  Australia - AUS  Austria - AUT  Burundi - BDI  \\\n",
      "year                                                                         \n",
      "1960-01-01       3154.70256      14182.87949     9362.05963      609.70310   \n",
      "1961-01-01       3260.68442      14138.77235     9873.34963      516.61365   \n",
      "1962-01-01       3059.14118      14638.65153    10093.59272      548.91431   \n",
      "1963-01-01       2975.31498      15565.82957    10458.43311      553.84916   \n",
      "1964-01-01       3118.35913      15924.63763    10884.63259      553.39789   \n",
      "\n",
      "            Belgium - BEL  Benin - BEN  Burkina Faso - BFA  Bangladesh - BGD  \\\n",
      "year                                                                           \n",
      "1960-01-01    10349.61476   1438.39447           660.64124        1498.06531   \n",
      "1961-01-01    10741.32217   1447.91880           648.61702        1482.04660   \n",
      "1962-01-01    11211.53601   1363.54825           697.15829        1546.08176   \n",
      "1963-01-01    11485.03254   1394.36188           667.73639        1598.71823   \n",
      "1964-01-01    12214.23943   1441.05923           694.36786        1553.43594   \n",
      "\n",
      "            Bolivia (Plurinational State of) - BOL  Brazil - BRA  \\\n",
      "year                                                               \n",
      "1960-01-01                              1342.72524    2347.07515   \n",
      "1961-01-01                              1390.51219    2487.16698   \n",
      "1962-01-01                              1401.62790    2584.93782   \n",
      "1963-01-01                              1454.37473    2526.43962   \n",
      "1964-01-01                              1533.72943    2557.79495   \n",
      "\n",
      "                 ...        Turkey - TUR  Taiwan - TWN  \\\n",
      "year             ...                                     \n",
      "1960-01-01       ...          4516.81341    2285.82620   \n",
      "1961-01-01       ...          4471.32984    2382.96625   \n",
      "1962-01-01       ...          4609.35495    2526.68580   \n",
      "1963-01-01       ...          4914.01214    2769.13767   \n",
      "1964-01-01       ...          4999.62326    3034.17974   \n",
      "\n",
      "            U.R. of Tanzania: Mainland - TZA  Uganda - UGA  Uruguay - URY  \\\n",
      "year                                                                        \n",
      "1960-01-01                        1153.11036     779.25102     7006.64171   \n",
      "1961-01-01                        1166.86389     775.05558     7057.55094   \n",
      "1962-01-01                        1253.02229     772.01690     7107.82935   \n",
      "1963-01-01                        1328.54752     776.19988     6795.96460   \n",
      "1964-01-01                        1478.28401     861.88186     6985.21840   \n",
      "\n",
      "            United States - USA  Venezuela (Bolivarian Republic of) - VEN  \\\n",
      "year                                                                        \n",
      "1960-01-01          17646.77201                                6812.01563   \n",
      "1961-01-01          17795.44201                                6677.49698   \n",
      "1962-01-01          18561.17772                                6721.59864   \n",
      "1963-01-01          19055.60794                                6909.32356   \n",
      "1964-01-01          19856.38345                                7378.63175   \n",
      "\n",
      "            South Africa - ZAF  Zambia - ZMB  Zimbabwe - ZWE  \n",
      "year                                                          \n",
      "1960-01-01          5720.94214    2506.30822      1936.83147  \n",
      "1961-01-01          5797.06259    2401.59263      1990.39456  \n",
      "1962-01-01          5869.44020    2290.02786      1912.10188  \n",
      "1963-01-01          6093.63816    2350.87146      1891.25701  \n",
      "1964-01-01          6344.91004    2667.19096      1779.87931  \n",
      "\n",
      "[5 rows x 111 columns]\n"
     ]
    }
   ],
   "source": [
    "# Import the cross-country GDP data into a DataFrame called 'incomeDf' with arguments index_col=0 and parse_dates=True\n",
    "incomeDf = pd.read_csv('https://www.briancjenkins.com/data/csv/crossCountryIncomePerCapita.csv',index_col=0,parse_dates=True)\n",
    "\n",
    "# Print the first five rows of incomeDf\n",
    "print(incomeDf.head())"
   ]
  },
  {
   "cell_type": "code",
   "execution_count": 4,
   "metadata": {
    "scrolled": true
   },
   "outputs": [
    {
     "name": "stdout",
     "output_type": "stream",
     "text": [
      "Index(['Argentina - ARG', 'Australia - AUS', 'Austria - AUT', 'Burundi - BDI',\n",
      "       'Belgium - BEL', 'Benin - BEN', 'Burkina Faso - BFA',\n",
      "       'Bangladesh - BGD', 'Bolivia (Plurinational State of) - BOL',\n",
      "       'Brazil - BRA',\n",
      "       ...\n",
      "       'Turkey - TUR', 'Taiwan - TWN', 'U.R. of Tanzania: Mainland - TZA',\n",
      "       'Uganda - UGA', 'Uruguay - URY', 'United States - USA',\n",
      "       'Venezuela (Bolivarian Republic of) - VEN', 'South Africa - ZAF',\n",
      "       'Zambia - ZMB', 'Zimbabwe - ZWE'],\n",
      "      dtype='object', length=111)\n"
     ]
    }
   ],
   "source": [
    "# Print the columns attribute of incomeDf\n",
    "print(incomeDf.columns)"
   ]
  },
  {
   "cell_type": "markdown",
   "metadata": {},
   "source": [
    "The `len()` function is a built-in Python function for determining the length of objects that can be iterated upone (e.g., lists, strings, NumPy arrays). For example, the following code creates a variable `x` equal to a four-element list and prints the length of `x`:\n",
    "\n",
    "    x = [1,2,3,4]\n",
    "    print(len(x))\n",
    "    \n",
    "The code will print a value of 4 to the screen."
   ]
  },
  {
   "cell_type": "code",
   "execution_count": 5,
   "metadata": {},
   "outputs": [
    {
     "name": "stdout",
     "output_type": "stream",
     "text": [
      "111\n"
     ]
    }
   ],
   "source": [
    "# Print the number of years of countries in incomeDf (i.e., print the length of incomeDf.columns)\n",
    "print(len(incomeDf.columns))"
   ]
  },
  {
   "cell_type": "code",
   "execution_count": 6,
   "metadata": {},
   "outputs": [
    {
     "name": "stdout",
     "output_type": "stream",
     "text": [
      "DatetimeIndex(['1960-01-01', '1961-01-01', '1962-01-01', '1963-01-01',\n",
      "               '1964-01-01', '1965-01-01', '1966-01-01', '1967-01-01',\n",
      "               '1968-01-01', '1969-01-01', '1970-01-01', '1971-01-01',\n",
      "               '1972-01-01', '1973-01-01', '1974-01-01', '1975-01-01',\n",
      "               '1976-01-01', '1977-01-01', '1978-01-01', '1979-01-01',\n",
      "               '1980-01-01', '1981-01-01', '1982-01-01', '1983-01-01',\n",
      "               '1984-01-01', '1985-01-01', '1986-01-01', '1987-01-01',\n",
      "               '1988-01-01', '1989-01-01', '1990-01-01', '1991-01-01',\n",
      "               '1992-01-01', '1993-01-01', '1994-01-01', '1995-01-01',\n",
      "               '1996-01-01', '1997-01-01', '1998-01-01', '1999-01-01',\n",
      "               '2000-01-01', '2001-01-01', '2002-01-01', '2003-01-01',\n",
      "               '2004-01-01', '2005-01-01', '2006-01-01', '2007-01-01',\n",
      "               '2008-01-01', '2009-01-01', '2010-01-01', '2011-01-01',\n",
      "               '2012-01-01', '2013-01-01', '2014-01-01'],\n",
      "              dtype='datetime64[ns]', name='year', freq=None)\n"
     ]
    }
   ],
   "source": [
    "# Print the index attribute of incomeDf\n",
    "print(incomeDf.index)"
   ]
  },
  {
   "cell_type": "code",
   "execution_count": 7,
   "metadata": {},
   "outputs": [
    {
     "name": "stdout",
     "output_type": "stream",
     "text": [
      "55\n"
     ]
    }
   ],
   "source": [
    "# Print the number of years of data in incomeDf (i.e., print the length of incomeDf.index)\n",
    "print(len(incomeDf.index))"
   ]
  },
  {
   "cell_type": "code",
   "execution_count": 8,
   "metadata": {},
   "outputs": [
    {
     "name": "stdout",
     "output_type": "stream",
     "text": [
      "year\n",
      "1960-01-01    17646.77201\n",
      "1961-01-01    17795.44201\n",
      "1962-01-01    18561.17772\n",
      "1963-01-01    19055.60794\n",
      "1964-01-01    19856.38345\n",
      "Name: United States - USA, dtype: float64\n"
     ]
    }
   ],
   "source": [
    "# Print the first five rows of the 'United States - USA 'column of incomeDf\n",
    "print(incomeDf['United States - USA'].head())"
   ]
  },
  {
   "cell_type": "code",
   "execution_count": 9,
   "metadata": {},
   "outputs": [
    {
     "name": "stdout",
     "output_type": "stream",
     "text": [
      "year\n",
      "2010-01-01    49430.86782\n",
      "2011-01-01    49908.57144\n",
      "2012-01-01    50657.25890\n",
      "2013-01-01    51004.73025\n",
      "2014-01-01    51982.96450\n",
      "Name: United States - USA, dtype: float64\n"
     ]
    }
   ],
   "source": [
    "# Print the last five rows of the 'United States - USA' column of incomeDf\n",
    "print(incomeDf['United States - USA'].tail())"
   ]
  },
  {
   "cell_type": "code",
   "execution_count": 10,
   "metadata": {},
   "outputs": [
    {
     "name": "stdout",
     "output_type": "stream",
     "text": [
      "GDP per capital for the US in 2014: 51983.0\n"
     ]
    }
   ],
   "source": [
    "# Print the last value in the 'United States - USA' column of incomeDf\n",
    "print('GDP per capital for the US in '+str(incomeDf.index[-1])[:4]+':',round(incomeDf.iloc[-1]['United States - USA']))"
   ]
  },
  {
   "cell_type": "markdown",
   "metadata": {},
   "source": [
    "### Part (b): Construct Two Plots"
   ]
  },
  {
   "cell_type": "code",
   "execution_count": 11,
   "metadata": {},
   "outputs": [
    {
     "data": {
      "image/png": "[encoded data removed]",
      "text/plain": [
       "<Figure size 432x288 with 1 Axes>"
      ]
     },
     "metadata": {
      "needs_background": "light"
     },
     "output_type": "display_data"
    }
   ],
   "source": [
    "# Create a plot of gdp per capita for the US with incomeDf.index as the x-axis coordinates with:\n",
    "#     1. Set linewidth to 3 and opacity (alpha) to 0.75\n",
    "#     2. Set y-axis label to 'Dollars'\n",
    "#     3. Set title to 'GDP per capita: United States')\n",
    "#     4. Add a grid if you want to\n",
    "plt.plot(incomeDf.index,incomeDf['United States - USA'],lw=3,alpha = 0.75)\n",
    "plt.ylabel('Dollars')\n",
    "plt.title('GDP per capita: United States')\n",
    "plt.grid()"
   ]
  },
  {
   "cell_type": "markdown",
   "metadata": {},
   "source": [
    "You can use the `DataFrame` method `filter()` to exclude columns or rows that *don't* match specified criteria. This is useful for searching over columns (or rows) if you're not sure about the contents. For example, suppose that we want to select the column for Equatorial Guinea from `incomeDf`, but we're not sure what the abbreviation is. We can run:\n",
    "\n",
    "    incomeDf.filter(like='Guinea').columns\n",
    "    \n",
    "which returns:\n",
    "\n",
    "    Index(['Guinea - GIN', 'Guinea-Bissau - GNB', 'Equatorial Guinea - GNQ'], dtype='object')\n",
    "    \n",
    "So now it's apparent that `'Equatorial Guinea - GNQ'` is the name of the column with data for Equatorial Guinea."
   ]
  },
  {
   "cell_type": "code",
   "execution_count": 12,
   "metadata": {},
   "outputs": [
    {
     "name": "stdout",
     "output_type": "stream",
     "text": [
      "Bolivia (Plurinational State of) - BOL\n"
     ]
    }
   ],
   "source": [
    "# Use the example described above to find the column name for any country you like\n",
    "country = incomeDf.filter(like='Bolivia').columns.values[0]\n",
    "print(country)"
   ]
  },
  {
   "cell_type": "code",
   "execution_count": 13,
   "metadata": {},
   "outputs": [
    {
     "data": {
      "image/png": "[encoded data removed]",
      "text/plain": [
       "<Figure size 432x288 with 1 Axes>"
      ]
     },
     "metadata": {
      "needs_background": "light"
     },
     "output_type": "display_data"
    }
   ],
   "source": [
    "# Create a plot of gdp per capita for the country that you picked wtih incomeDf.index as the x-axis coordinates and:\n",
    "#     1. Set linewidth to 3 and opacity (alpha) to 0.75\n",
    "#     2. Set y-axis label to 'Dollars'\n",
    "#     3. Set title to 'GDP per capita: COUNTRY NAME')\n",
    "#     4. Add a grid if you want to\n",
    "plt.plot(incomeDf.index,incomeDf[country],lw=3,alpha = 0.75)\n",
    "plt.ylabel('Dollars')\n",
    "plt.title('GDP per capita: '+country.split(\" \")[0])\n",
    "plt.grid()"
   ]
  },
  {
   "cell_type": "markdown",
   "metadata": {},
   "source": [
    "**Question**\n",
    "\n",
    "1. Describe in words any similarities and/or differences you see between the paths of GDP per capita in the US and GDP per capita in the country that you picked."
   ]
  },
  {
   "cell_type": "markdown",
   "metadata": {},
   "source": [
    "**Answer**\n",
    "\n",
    "1. Over the entire data range, the GDP per capita of Bolivia is at least an order of magnitude lower than the GDP per capita of the US. However, beginning in the early 2000s, growth in GDP per capita in Bolivia accelerated substantially and this was not mirrored in the US data.<!-- answer -->"
   ]
  }
 ],
 "metadata": {
  "anaconda-cloud": {},
  "kernelspec": {
   "display_name": "Python 3",
   "language": "python",
   "name": "python3"
  },
  "language_info": {
   "codemirror_mode": {
    "name": "ipython",
    "version": 3
   },
   "file_extension": ".py",
   "mimetype": "text/x-python",
   "name": "python",
   "nbconvert_exporter": "python",
   "pygments_lexer": "ipython3",
   "version": "3.7.0"
  }
 },
 "nbformat": 4,
 "nbformat_minor": 1
}
