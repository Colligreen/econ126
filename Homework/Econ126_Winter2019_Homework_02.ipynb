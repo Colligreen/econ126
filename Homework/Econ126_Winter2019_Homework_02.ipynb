{
 "cells": [
  {
   "cell_type": "markdown",
   "metadata": {},
   "source": [
    "# Homework 2\n",
    "\n",
    "**Instructions:** Complete the notebook below. Download the completed notebook in HTML format. Upload assignment using Canvas.\n",
    "\n",
    "**Due:** Jan. 24 at 11am."
   ]
  },
  {
   "cell_type": "markdown",
   "metadata": {},
   "source": [
    "## Exercise: NumPy Arrays\n",
    "\n",
    "Follow the instructions in the following cells."
   ]
  },
  {
   "cell_type": "code",
   "execution_count": 1,
   "metadata": {},
   "outputs": [],
   "source": [
    "# Import numpy\n",
    "import numpy as np"
   ]
  },
  {
   "cell_type": "code",
   "execution_count": 2,
   "metadata": {},
   "outputs": [
    {
     "name": "stdout",
     "output_type": "stream",
     "text": [
      "[ 1  2  3  4  5  6  7  8  9 10]\n"
     ]
    }
   ],
   "source": [
    "# Use the 'np.arange()' function to create a variable called 'numbers1' that stores the integers \n",
    "# 1 through (and including) 10\n",
    "numbers1 = np.arange(1,11)\n",
    "\n",
    "# Print the value of 'numbers1'\n",
    "print(numbers1)"
   ]
  },
  {
   "cell_type": "code",
   "execution_count": 3,
   "metadata": {},
   "outputs": [
    {
     "name": "stdout",
     "output_type": "stream",
     "text": [
      "[0.   0.01 0.02 0.03 0.04 0.05 0.06 0.07 0.08 0.09 0.1  0.11 0.12 0.13\n",
      " 0.14 0.15 0.16 0.17 0.18 0.19 0.2  0.21 0.22 0.23 0.24 0.25 0.26 0.27\n",
      " 0.28 0.29 0.3  0.31 0.32 0.33 0.34 0.35 0.36 0.37 0.38 0.39 0.4  0.41\n",
      " 0.42 0.43 0.44 0.45 0.46 0.47 0.48 0.49 0.5  0.51 0.52 0.53 0.54 0.55\n",
      " 0.56 0.57 0.58 0.59 0.6  0.61 0.62 0.63 0.64 0.65 0.66 0.67 0.68 0.69\n",
      " 0.7  0.71 0.72 0.73 0.74 0.75 0.76 0.77 0.78 0.79 0.8  0.81 0.82 0.83\n",
      " 0.84 0.85 0.86 0.87 0.88 0.89 0.9  0.91 0.92 0.93 0.94 0.95 0.96 0.97\n",
      " 0.98 0.99 1.  ]\n"
     ]
    }
   ],
   "source": [
    "# Use the 'np.arange()' function to create a variable called 'numbers2' that stores the numbers \n",
    "# 0 through (and including) 1 with a step increment of 0.01\n",
    "step =0.01\n",
    "numbers2 = np.arange(0,1+step,step)\n",
    "\n",
    "# Print the value of 'numbers2'\n",
    "print(numbers2)"
   ]
  },
  {
   "cell_type": "code",
   "execution_count": 4,
   "metadata": {},
   "outputs": [
    {
     "name": "stdout",
     "output_type": "stream",
     "text": [
      "0.04\n"
     ]
    }
   ],
   "source": [
    "# Print the 5th value of 'numbers2'. (Remember that the index starts counting at 0)\n",
    "print(numbers2[4])"
   ]
  },
  {
   "cell_type": "code",
   "execution_count": 5,
   "metadata": {},
   "outputs": [
    {
     "name": "stdout",
     "output_type": "stream",
     "text": [
      "1.0\n"
     ]
    }
   ],
   "source": [
    "# Print the last value of 'numbers2'.\n",
    "print(numbers2[-1])"
   ]
  },
  {
   "cell_type": "code",
   "execution_count": 6,
   "metadata": {},
   "outputs": [
    {
     "name": "stdout",
     "output_type": "stream",
     "text": [
      "[0.   0.01 0.02 0.03 0.04 0.05 0.06 0.07 0.08 0.09 0.1  0.11]\n"
     ]
    }
   ],
   "source": [
    "# Print the first 12 values of 'numbers2'.\n",
    "print(numbers2[:12])"
   ]
  },
  {
   "cell_type": "code",
   "execution_count": 7,
   "metadata": {},
   "outputs": [
    {
     "name": "stdout",
     "output_type": "stream",
     "text": [
      "[0.89 0.9  0.91 0.92 0.93 0.94 0.95 0.96 0.97 0.98 0.99 1.  ]\n"
     ]
    }
   ],
   "source": [
    "# Print the last 12 values of 'numbers2'.\n",
    "print(numbers2[-12:])"
   ]
  },
  {
   "cell_type": "code",
   "execution_count": 8,
   "metadata": {},
   "outputs": [
    {
     "name": "stdout",
     "output_type": "stream",
     "text": [
      "[0. 0. 0. 0. 0. 0. 0. 0. 0. 0. 0. 0. 0. 0. 0. 0. 0. 0. 0. 0.]\n"
     ]
    }
   ],
   "source": [
    "# Use the 'np.zeros()' function to create a variable called 'zeros' that is an array of 20 zeros\n",
    "zeros = np.zeros(20)\n",
    "\n",
    "# Print the value of 'zeros'\n",
    "print(zeros)"
   ]
  },
  {
   "cell_type": "code",
   "execution_count": 9,
   "metadata": {},
   "outputs": [
    {
     "name": "stdout",
     "output_type": "stream",
     "text": [
      "[0. 1. 0. 0. 0. 0. 0. 0. 0. 0. 0. 0. 0. 0. 0. 0. 0. 0. 0. 0.]\n"
     ]
    }
   ],
   "source": [
    "# Change the second value of 'zeros' to 1 and print \n",
    "zeros[1] = 1\n",
    "\n",
    "# Print the value of 'zeros'\n",
    "print(zeros)"
   ]
  },
  {
   "cell_type": "markdown",
   "metadata": {},
   "source": [
    "## Exercise: Random Numbers\n",
    "\n",
    "Follow the instructions in the following cells."
   ]
  },
  {
   "cell_type": "code",
   "execution_count": 10,
   "metadata": {},
   "outputs": [
    {
     "name": "stdout",
     "output_type": "stream",
     "text": [
      "[ 2.67538919  6.80573472  2.82000233  4.20989426  4.16082178 -1.647651\n",
      "  5.03812875  5.01159741  4.39492279  3.85680303  6.91478091  0.0854267\n",
      "  7.02367775  3.94735082  2.48401748  7.02291824  6.25058482  5.57263063\n",
      "  1.67321674  4.54716569  6.58060317  5.30662456  1.16478298  3.95415024\n",
      "  3.56110405]\n"
     ]
    }
   ],
   "source": [
    "# Set the seed of NumPy's random number generator to 126\n",
    "np.random.seed(126)\n",
    "\n",
    "# Create a variable called 'epsilon' that is an array containing 25 draws from\n",
    "# a normal distribution with mean 4 and standard deviation 2\n",
    "epsilon = np.random.normal(loc=4,scale=2,size=25)\n",
    "\n",
    "# Print the value of epsilon\n",
    "print(epsilon)"
   ]
  },
  {
   "cell_type": "code",
   "execution_count": 11,
   "metadata": {},
   "outputs": [
    {
     "name": "stdout",
     "output_type": "stream",
     "text": [
      "4.136587121846035\n"
     ]
    }
   ],
   "source": [
    "# Print the mean of 'epsilon'\n",
    "print(np.mean(epsilon))"
   ]
  },
  {
   "cell_type": "code",
   "execution_count": 12,
   "metadata": {},
   "outputs": [
    {
     "name": "stdout",
     "output_type": "stream",
     "text": [
      "2.182193135563433\n"
     ]
    }
   ],
   "source": [
    "# Print the standard deviation of 'epsilon'\n",
    "print(np.std(epsilon))"
   ]
  },
  {
   "cell_type": "markdown",
   "metadata": {},
   "source": [
    "## Exercise: The Cobb-Douglas Production Function\n",
    "\n",
    "The Cobb-Douglas production function can be written in per worker terms as :\n",
    "  \\begin{align}\n",
    "  y & = A k^{\\alpha},\n",
    "  \\end{align}\n",
    "where $y$ denotes output per worker, $k$ denotes capital per worker, and $A$ denotes total factor productivity or technology."
   ]
  },
  {
   "cell_type": "markdown",
   "metadata": {},
   "source": [
    "### Part (a)\n",
    "\n",
    "On a single axis: plot the Cobb-Douglas production for $A$ = 0.8, 1, 1.2, and 1.4 with $\\alpha$ = 0.35 and $k$ ranging from 0 to 10. Each line should have a different color. Your plot must have a title and axis labels. The plot should also contain a legend that clearly indicates which line is associated with which value of $A$ and does not cover the plotted lines."
   ]
  },
  {
   "cell_type": "code",
   "execution_count": 13,
   "metadata": {},
   "outputs": [],
   "source": [
    "# Import the pyplot module from Matplotlib as plt\n",
    "import matplotlib.pyplot as plt\n",
    "\n",
    "# Select the Matlplotlib style sheet to use (Optional)\n",
    "plt.style.use('classic')\n",
    "\n",
    "# Use the '%matplotlib inline' magic command to ensure that Matplotlib plots are displayed in the Notebook\n",
    "%matplotlib inline"
   ]
  },
  {
   "cell_type": "code",
   "execution_count": 14,
   "metadata": {},
   "outputs": [
    {
     "data": {
      "image/png": "[encoded data removed]",
      "text/plain": [
       "<Figure size 432x288 with 1 Axes>"
      ]
     },
     "metadata": {
      "needs_background": "light"
     },
     "output_type": "display_data"
    }
   ],
   "source": [
    "# Set capital share (alpha)\n",
    "alpha = 0.35\n",
    "\n",
    "# Create an array of capital values\n",
    "k = np.arange(0,10,0.001)\n",
    "\n",
    "# Plot production function for each of the given values for A\n",
    "\n",
    "def cobbDouglas(A,k,alpha):\n",
    "    '''Returns the value of the production function A*k**alpha\n",
    "    \n",
    "    Args:\n",
    "        A (float):          TFP or productivity value\n",
    "        k (NumPy ndarray):  Array of capital values\n",
    "        alpha (float):      Capital share in production\n",
    "     \n",
    "     Returns:\n",
    "         NumPy series\n",
    "     '''\n",
    "    return A*k**alpha\n",
    "\n",
    "\n",
    "for A in [0.8,1,1.2,1.4]:\n",
    "    plt.plot(k,cobbDouglas(A,k,alpha),lw=3,alpha = 0.65,label='$A='+str(A)+'$')\n",
    "\n",
    "# Add x- and y-axis labels\n",
    "plt.xlabel('capital')\n",
    "plt.ylabel('output')\n",
    "# Add a title to the plot\n",
    "plt.title('Cobb-Douglas production function')\n",
    "# Create a legend\n",
    "plt.legend(loc='lower right')\n",
    "# Add a grid\n",
    "plt.grid(True)"
   ]
  },
  {
   "cell_type": "markdown",
   "metadata": {},
   "source": [
    "**Question**\n",
    "\n",
    "1. *Briefly* explain in words how increasing $A$ affects the shape of the production function."
   ]
  },
  {
   "cell_type": "markdown",
   "metadata": {},
   "source": [
    "**Answer**\n",
    "\n",
    "1. Increasing $A$ increases the height of the the production function at every value of capital except for 0 so increasing $A$ increases the steepness of the production function. <!-- answer -->"
   ]
  },
  {
   "cell_type": "markdown",
   "metadata": {},
   "source": [
    "### Part (b)\n",
    "\n",
    "On a single axis: plot the Cobb-Douglas production for $\\alpha$ = 0.1, 0.2, 0.3, 0.4, and 0.5 with $A$ = 1 and $k$ ranging from 0 to 10. Each line should have a different color. Your plot must have a title and axis labels. The plot should also contain a legend that clearly indicates which line is associated with which value of $\\alpha$ and does not cover the plotted lines."
   ]
  },
  {
   "cell_type": "code",
   "execution_count": 15,
   "metadata": {
    "scrolled": false
   },
   "outputs": [
    {
     "data": {
      "image/png": "[encoded data removed]",
      "text/plain": [
       "<Figure size 432x288 with 1 Axes>"
      ]
     },
     "metadata": {
      "needs_background": "light"
     },
     "output_type": "display_data"
    }
   ],
   "source": [
    "# Set TFP (A)\n",
    "A = 1\n",
    "\n",
    "# Plot production function for each of the given values for alpha\n",
    "for alpha in [0.1,0.2,0.3,0.4,0.5]:\n",
    "    plt.plot(k,cobbDouglas(A,k,alpha),lw=3,alpha = 0.65,label='$\\\\alpha='+str(alpha)+'$')\n",
    "\n",
    "# Add x- and y-axis labels\n",
    "plt.xlabel('capital')\n",
    "plt.ylabel('output')\n",
    "# Add a title to the plot\n",
    "plt.title('Cobb-Douglas production function')\n",
    "# Create a legend\n",
    "plt.legend(ncol=3,loc='lower right')\n",
    "# Add a grid\n",
    "plt.grid(True)"
   ]
  },
  {
   "cell_type": "markdown",
   "metadata": {},
   "source": [
    "**Question**\n",
    "\n",
    "1. *Briefly* explain in words how increasing $\\alpha$ affects the shape of the production function."
   ]
  },
  {
   "cell_type": "markdown",
   "metadata": {},
   "source": [
    "**Answer**\n",
    "\n",
    "1. Increasing $\\alpha$ reduces the curvature of the production function for capital between 0 and 1 and increases the steepness of the production function for capital greater than 1. <!-- answer -->"
   ]
  },
  {
   "cell_type": "markdown",
   "metadata": {},
   "source": [
    "### Exercise: The Cardioid\n",
    "\n",
    "The cardioid is a shape described by the parametric equations:\n",
    "\n",
    "  \\begin{align}\n",
    "  x & = a(2\\cos \\theta - \\cos 2\\theta), \\\\\n",
    "  y & = a(2\\sin \\theta - \\sin 2\\theta).\n",
    "  \\end{align}\n",
    "  \n",
    "Construct a well-labeled graph of the cardiod for $a=4$ and $\\theta$ in $[0,2\\pi]$. Your plot must have a title and axis labels."
   ]
  },
  {
   "cell_type": "code",
   "execution_count": 16,
   "metadata": {},
   "outputs": [
    {
     "data": {
      "image/png": "[encoded data removed]",
      "text/plain": [
       "<Figure size 432x288 with 1 Axes>"
      ]
     },
     "metadata": {
      "needs_background": "light"
     },
     "output_type": "display_data"
    }
   ],
   "source": [
    "# Construct data for x and y\n",
    "a = 4\n",
    "theta = np.arange(0,2*np.pi,0.001)\n",
    "x = a*(2*np.cos(theta) - np.cos(2*theta))\n",
    "y = a*(2*np.sin(theta) - np.sin(2*theta))\n",
    "\n",
    "# Plot y against x\n",
    "plt.plot(x,y,lw=3,alpha=0.65)\n",
    "\n",
    "# Create x-axis label\n",
    "plt.xlabel('x')\n",
    "\n",
    "# Create y-axis label\n",
    "plt.ylabel('y')\n",
    "\n",
    "# Create title for plot\n",
    "plt.title('Cardioid')\n",
    "\n",
    "# Add a grid to the plot\n",
    "plt.grid()"
   ]
  },
  {
   "cell_type": "markdown",
   "metadata": {},
   "source": [
    "## Exercise: Utility Maximization\n",
    "\n",
    "Recall the two good utility maximization problem from microeconomics. Let $x$ and $y$ denote the amount of two goods that a person consumes. The person receives utility from consumption given by:\n",
    "  \\begin{align}\n",
    "  u(x,y) & = x^{\\alpha}y^{\\beta} \n",
    "  \\end{align}\n",
    "The person has income $M$ to spend on the two goods and the price of the goods are $p_x$ and $p_y$. The consumer's budget constraint is:\n",
    "  \\begin{align}\n",
    "  M & = p_x x + p_y y\n",
    "  \\end{align}\n",
    "Suppose that $M = 100$, $\\alpha=0.25$, $\\beta=0.75$, $p_x = 1$. and $p_y = 0.5$. The consumer's problem is to maximize their utility subject to the budget constraint. While this problem can easily be solved by hand, we're going to use a computational approach. You can also solve the problem by hand to verify your solution."
   ]
  },
  {
   "cell_type": "markdown",
   "metadata": {},
   "source": [
    "### Part (a)\n",
    "\n",
    "Use the budget constraint to solve for $y$ in terms of $x$, $p_x$, $p_y$, and $M$. Use the result to write the consumer's utility as a function of $x$ only. Create a variable called `x` equal to an array of values from 0 to 80 with step size equal to 0.001 and a variable called `utility` equal to the consumer's utility. Plot the consumer's utility against $x$."
   ]
  },
  {
   "cell_type": "code",
   "execution_count": 17,
   "metadata": {},
   "outputs": [
    {
     "data": {
      "image/png": "[encoded data removed]",
      "text/plain": [
       "<Figure size 432x288 with 1 Axes>"
      ]
     },
     "metadata": {
      "needs_background": "light"
     },
     "output_type": "display_data"
    }
   ],
   "source": [
    "# Assign values to the constants alpha, beta, M, px, py\n",
    "alpha = 0.25\n",
    "beta = 0.75\n",
    "M = 100\n",
    "px=1\n",
    "py=0.5\n",
    "\n",
    "# Create an array of x values\n",
    "x = np.arange(0,80,0.001)\n",
    "\n",
    "# Create an array of utility values\n",
    "utility = x**alpha*((M-px*x)/py)**beta\n",
    "\n",
    "# Plot utility against x.\n",
    "plt.plot(x,utility,lw=3,alpha=0.65)\n",
    "\n",
    "# x- and y-axis labels\n",
    "plt.xlabel('x')\n",
    "plt.ylabel('utility')\n",
    "\n",
    "# Title\n",
    "plt.title('u[x,y(x)]')\n",
    "\n",
    "# Add grid\n",
    "plt.grid()"
   ]
  },
  {
   "cell_type": "markdown",
   "metadata": {},
   "source": [
    "### Part (b)\n",
    "\n",
    "The NumPy function `np.max()` returns the highest value in an array and `np.argmax()` returns the index of the highest value. Print the highest value and index of the highest value of `utility`."
   ]
  },
  {
   "cell_type": "code",
   "execution_count": 18,
   "metadata": {},
   "outputs": [
    {
     "name": "stdout",
     "output_type": "stream",
     "text": [
      "highest utility value         : 95.84146563694088\n",
      "index of highest utility value: 25000\n"
     ]
    }
   ],
   "source": [
    "print('highest utility value         :',np.max(utility))\n",
    "print('index of highest utility value:',np.argmax(utility))"
   ]
  },
  {
   "cell_type": "markdown",
   "metadata": {},
   "source": [
    "### Part (c)\n",
    "\n",
    "Use the index of the highest value of utility to find the value in `x` with the same index and store value in a new variable called `xstar`. Print the value of `xstar`."
   ]
  },
  {
   "cell_type": "code",
   "execution_count": 19,
   "metadata": {},
   "outputs": [
    {
     "name": "stdout",
     "output_type": "stream",
     "text": [
      "xstar: 25.0\n"
     ]
    }
   ],
   "source": [
    "# Create variable 'xstar' equal to value in 'x' that maximizes utility\n",
    "xstar = x[np.argmax(utility)]\n",
    "\n",
    "# Print value of 'xstar'\n",
    "print('xstar:',xstar)"
   ]
  },
  {
   "cell_type": "markdown",
   "metadata": {},
   "source": [
    "### Part (d)\n",
    "\n",
    "Use the budget constraint to the find the implied utility-maximizing vaue of $y$ and store this in a variable called `ystar`. Print `ystar`."
   ]
  },
  {
   "cell_type": "code",
   "execution_count": 20,
   "metadata": {},
   "outputs": [
    {
     "name": "stdout",
     "output_type": "stream",
     "text": [
      "ystar: 150.0\n"
     ]
    }
   ],
   "source": [
    "# Create variable 'ystar' equal to value in 'y' that maximizes utility\n",
    "ystar = M/py - px*xstar/py\n",
    "\n",
    "# Print value of 'xstar'\n",
    "print('ystar:',ystar)"
   ]
  }
 ],
 "metadata": {
  "kernelspec": {
   "display_name": "Python 3",
   "language": "python",
   "name": "python3"
  },
  "language_info": {
   "codemirror_mode": {
    "name": "ipython",
    "version": 3
   },
   "file_extension": ".py",
   "mimetype": "text/x-python",
   "name": "python",
   "nbconvert_exporter": "python",
   "pygments_lexer": "ipython3",
   "version": "3.7.1"
  }
 },
 "nbformat": 4,
 "nbformat_minor": 2
}
