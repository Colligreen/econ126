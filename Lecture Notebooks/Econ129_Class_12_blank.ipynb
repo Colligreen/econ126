{
    "cells": [
        {
            "cell_type": "code",
            "execution_count": null,
            "metadata": {},
            "outputs": [],
            "source": [
                "import numpy as np\n",
                "import pandas as pd\n",
                "import matplotlib.pyplot as plt\n",
                "plt.style.use('classic')\n",
                "%matplotlib inline"
            ]
        },
        {
            "cell_type": "markdown",
            "metadata": {},
            "source": [
                "# Class 12: Introduction to the `linearsolve` Module\n",
                "\n",
                "In general, dynamic stochastic general equilibrium (DSGE) models do not admit analytic (i.e., pencil-and-paper) solutions and they are time-consuming to work with. The `linearsolve` module approximates, solves, and simulates DSGE models.\n",
                "\n",
                "## Installing `linearsolve`\n",
                "\n",
                "`linearsolve` is not included in the Anaconda Python installation and so before you can import it, you need to download and install the `linearsolve` package from PyPI, the Python Package Index. In Windows, open the Anaconda Prompt and in Mac, open the Terminal and run the following commmand:\n",
                "\n",
                "    pip install linearsolve\n",
                "    \n",
                "You only have to install the package once."
            ]
        },
        {
            "cell_type": "code",
            "execution_count": null,
            "metadata": {},
            "outputs": [],
            "source": [
                "# Import the linearsolve under the 'ls' namespace\n"
            ]
        },
        {
            "cell_type": "markdown",
            "metadata": {},
            "source": [
                "## Example: A One-Equation Model of TFP\n",
                "\n",
                "Consider the following AR(1) specification for $\\log$ TFP:\n",
                "\n",
                "\\begin{align}\n",
                "\\log A_{t+1} & = \\rho \\log A_t + \\epsilon_{t+1} \\tag{1}\n",
                "\\end{align}\n",
                "\n",
                "where $\\epsilon_{t+1} \\sim \\mathcal{N}(0,\\sigma^2)$. Let's simulate the model with `linearsolve`. To do this we need to do several things:\n",
                "\n",
                "1. Create a Pandas series that stores the names of the parameters of the model.\n",
                "2. Define a function that returns the equilibrium conditions of the model solved for zero.\n",
                "3. Initialize an instance of the `linearsolve.model` class\n",
                "4. Compute and input the steady state of the model.\n",
                "5. Approximate and solve the model.\n",
                "6. Compute simulations of the model."
            ]
        },
        {
            "cell_type": "markdown",
            "metadata": {},
            "source": [
                "**Step 1:** Create a variable called `parameters` that stores parameter values as a Pandas Series."
            ]
        },
        {
            "cell_type": "code",
            "execution_count": null,
            "metadata": {},
            "outputs": [],
            "source": [
                "# Create a variable called 'parameters' that stores parameter values as a Pandas Series\n",
                "\n",
                "\n",
                "",
                "",
                "# Print stored parameter values\n"
            ]
        },
        {
            "cell_type": "markdown",
            "metadata": {},
            "source": [
                "**Step 2:** Define a function called `equilibrium_equations` that evaluates the equilibrium \n",
                "equations of model solved for zero. The function should accept three arguments:\n",
                "\n",
                "1. `variables_forward`: Values of $t+1$-dated variables\n",
                "2. `variables_current`: Values of $t-1$-dated variables\n",
                "3. `parameters`: Pandas Series with the parameters for the model\n",
                "\n",
                "The function should return a NumPy array of the model's equilibrium conditions solved for zero."
            ]
        },
        {
            "cell_type": "code",
            "execution_count": null,
            "metadata": {},
            "outputs": [],
            "source": [
                "# Define a function called 'equilibrium_equations' that evaluates the equilibrium equations of model. PROVIDED\n",
                "def equilibrium_equations(variables_forward,variables_current,parameters):\n",
                "\n",
                "    # Create a variable called 'p' that storres the model's parameters. PROVIDED.\n",
                "    p = parameters\n",
                "\n",
                "    # Create variable called 'cur' that stores the values of current (date t) variables. PROVIDED.\n",
                "    cur = variables_current\n",
                "\n",
                "    # Create variable called 'fwd' that stores the values of one-period-ahead (date t+1) variables. PROVIDED.\n",
                "    fwd = variables_forward\n",
                "\n",
                "    # Create variable called 'tfp_proc' that returns the law of motion for TFP solved for zero (exogenous shock excluded)\n",
                "\n",
                "\n",
                "    # Return equilibrium conditions stacked in a numpy array. PROVIDED.\n",
                "    return np.array([\n",
                "\n"
            ]
        },
        {
            "cell_type": "markdown",
            "metadata": {},
            "source": [
                "**Step 3:** Initialize a model instance using the `ls.model()` function. The \n",
                "\n",
                "1. `equations`: Name of function that stores the equilibrium conditions\n",
                "2. `nstates`: Number of *state* variables (i.e., variables that are *predetermined*)\n",
                "3. `varNames`: List of the names of the endogenous variables\n",
                "4. `shockNames`: List of the names of the exogenous shocks\n",
                "5. `parameters`: Pandas Series of parameter values"
            ]
        },
        {
            "cell_type": "code",
            "execution_count": null,
            "metadata": {},
            "outputs": [],
            "source": [
                "# Initialize a model instance using the ls.model() function\n",
                "\n",
                "\n",
                "",
                "",
                ""
            ]
        },
        {
            "cell_type": "markdown",
            "metadata": {},
            "source": [
                "**Step 4:** Set the steady state of the model. Either use the `.compute_ss()` method which requires an initial guess of what the steady state is. Or set the steady state `.ss` attribute directly."
            ]
        },
        {
            "cell_type": "code",
            "execution_count": null,
            "metadata": {},
            "outputs": [],
            "source": [
                "# Use linearsolve to compute the steady state of the model using the .compute_ss() method of model\n",
                "\n"
            ]
        },
        {
            "cell_type": "code",
            "execution_count": null,
            "metadata": {},
            "outputs": [],
            "source": [
                "# Set the .ss attribute of model directly.\n"
            ]
        },
        {
            "cell_type": "markdown",
            "metadata": {},
            "source": [
                "**Step 5:** Compute a transform the model into a log-linear approximation around the nonstochastic steady state. Then rewrite the equilibrium conditions so that all endogenous variables are expressed as linear functions of state variables and exogenous shocks."
            ]
        },
        {
            "cell_type": "code",
            "execution_count": null,
            "metadata": {},
            "outputs": [],
            "source": [
                "# Appproximate and solve using the .approximate_and_solve() method\n"
            ]
        },
        {
            "cell_type": "markdown",
            "metadata": {},
            "source": [
                "**Step 6:** Simulate the model using one of the following methods:\n",
                "\n",
                "1. `.impulse()`: Compute impulse responses to a one-time shock to each exogenous variables. Results stored in `.irs` attribute.\n",
                "2. `.stoch_sim()`: Compute stochastic simulation. Results stored in `.simulated` attribute.\n",
                "\n",
                "First, we'll compute an impulse response simulation. Let's consider the effect of a one time shock to $\\epsilon$ of 0.01 in period 5. Simulate 41 periods."
            ]
        },
        {
            "cell_type": "code",
            "execution_count": null,
            "metadata": {},
            "outputs": [],
            "source": [
                "# Compute impulse response of a to a one-time shock to eA\n",
                "\n",
                "\n",
                "# Print model.irs\n"
            ]
        },
        {
            "cell_type": "code",
            "execution_count": null,
            "metadata": {},
            "outputs": [],
            "source": [
                "# Print element in model.irs that corresponds to shock to TFP\n"
            ]
        },
        {
            "cell_type": "code",
            "execution_count": null,
            "metadata": {},
            "outputs": [],
            "source": [
                "# Plot simulation\n"
            ]
        },
        {
            "cell_type": "markdown",
            "metadata": {},
            "source": [
                "Next, we'll use the `.stoch_sim()` method to compute a stochastic simulation. The method takes arguments:\n",
                "\n",
                "1. `seed`: Seed of NumPy RNG. (Optional)\n",
                "2. `T`: Number of periods to simulate\n",
                "3. `covMat`: Covariance matrix for exogenous shock process\n",
                "\n",
                "The simulation should be for 201 periods."
            ]
        },
        {
            "cell_type": "code",
            "execution_count": null,
            "metadata": {},
            "outputs": [],
            "source": [
                "# Compute stochastic simulation\n",
                "\n",
                "\n",
                "# Print the first 10 rows of `model.simulated`\n"
            ]
        },
        {
            "cell_type": "code",
            "execution_count": null,
            "metadata": {},
            "outputs": [],
            "source": [
                "# Plot the stochastic simulation\n"
            ]
        },
        {
            "cell_type": "markdown",
            "metadata": {},
            "source": [
                "## Example 2: The STochastic Solow Growth Model Revisited\n",
                "\n",
                "Now consider the following system of equations:\n",
                "\n",
                "\\begin{align}\n",
                "Y_t & = A_t K_t^{\\alpha} \\tag{2}\\\\\n",
                "K_{t+1} & = sY_t + (1-\\delta) K_t \\tag{3}\\\\\n",
                "\\log A_{t+1} & = \\rho \\log A_t + \\epsilon_{t+1} \\tag{4}\n",
                "\\end{align}\n",
                "\n",
                "where $\\epsilon_{t+1} \\sim \\mathcal{N}(0,\\sigma^2)$. Let's simulate the model with `linearsolve`. Before proceding, let's also go ahead and rewrite the model with all variables moved to the lefthand side of the equations:\n",
                "\n",
                "\\begin{align}\n",
                "0 & = A_t K_t^{\\alpha} - Y_t \\tag{5}\\\\\n",
                "0 & = sY_t + (1-\\delta) K_t - K_{t+1} \\tag{6}\\\\\n",
                "0 & = \\rho \\log A_t + \\epsilon_{t+1} - \\log A_{t+1} \\tag{7}\n",
                "\\end{align}\n",
                "\n",
                "Capital and TFP are called *state variables* because they're $t+1$ values are predetermined. Output is called a *costate* or *control* variable. Note that the model as 3 endogenous variables with 2 state variables. \n",
                "\n",
                "Use the following parameter values:\n",
                "\n",
                "\n",
                "For the other parameter, use the following values for the simulation:\n",
                "\n",
                "| $\\rho$ | $\\sigma$ | $s$ | $\\alpha$ | $\\delta $ | $T$  |\n",
                "|--------|----------|-----|----------|-----------|------|\n",
                "| 0.75   | 0.006    | 0.1 | 0.35     |  0.025    | 201  |"
            ]
        },
        {
            "cell_type": "code",
            "execution_count": null,
            "metadata": {},
            "outputs": [],
            "source": [
                "# Input model parameters\n",
                "\n",
                "\n",
                "",
                "",
                "",
                "",
                "",
                "# Print the model's parameters\n"
            ]
        },
        {
            "cell_type": "code",
            "execution_count": null,
            "metadata": {},
            "outputs": [],
            "source": [
                "# Define a function that evaluates the equilibrium conditions. PROVIDED\n",
                "def equilibrium_equations(variables_forward,variables_current,parameters):\n",
                "\n",
                "    # Parameters. PROVIDED\n",
                "    p = parameters\n",
                "\n",
                "    # Current variables. PROVIDED\n",
                "    cur = variables_current\n",
                "\n",
                "    # Forward variables. PROVIDED\n",
                "    fwd = variables_forward\n",
                "\n",
                "\n",
                "    # Production function\n",
                "\n",
                "\n",
                "    # Capital evolution\n",
                "\n",
                "\n",
                "    # Exogenous tfp\n",
                "\n",
                "\n",
                "",
                "    # Stack equilibrium conditions into a numpy array\n",
                "\n",
                "\n",
                "",
                "",
                ""
            ]
        },
        {
            "cell_type": "code",
            "execution_count": null,
            "metadata": {},
            "outputs": [],
            "source": [
                "# Initialize the model\n",
                "\n",
                "\n",
                "",
                "",
                ""
            ]
        },
        {
            "cell_type": "code",
            "execution_count": null,
            "metadata": {},
            "outputs": [],
            "source": [
                "# Compute the steady state numerically using linearsolve\n",
                "\n",
                "\n",
                "",
                "# Print the computed steady state\n"
            ]
        },
        {
            "cell_type": "code",
            "execution_count": null,
            "metadata": {},
            "outputs": [],
            "source": [
                "# Find the log-linear approximation around the non-stochastic steady state and solve\n"
            ]
        },
        {
            "cell_type": "markdown",
            "metadata": {},
            "source": [
                "The previous step constructs a log-linear approximation of the model and then solves for the endogenous variables as functions of the state variables and exogenous shocks only:\n",
                "\n",
                "\\begin{align}\n",
                "\\left[ \\hat{y}_t\\right]  &  = F \\left[\\begin{array}{c} \\hat{a}_t \\\\ \\hat{k}_t \\end{array}\\right]\\\\\n",
                "\\left[\\begin{array}{c} \\hat{a}_{t+1} \\\\ \\hat{k}_{t+1} \\end{array}\\right] & = P \\left[\\begin{array}{c} \\hat{a}_t \\\\ \\hat{k}_t \\end{array}\\right] + \\left[\\begin{array}{c} \\epsilon_{t+1}^a \\\\ \\epsilon^k_{t+1} \\end{array}\\right].\n",
                "\\end{align}\n",
                "\n",
                "where $F$ and $P$ are coefficient matrices computed by the program."
            ]
        },
        {
            "cell_type": "code",
            "execution_count": null,
            "metadata": {},
            "outputs": [],
            "source": [
                "# Print the coeficient matrix P\n"
            ]
        },
        {
            "cell_type": "code",
            "execution_count": null,
            "metadata": {},
            "outputs": [],
            "source": [
                "# Print the coeficient matrix F\n"
            ]
        },
        {
            "cell_type": "code",
            "execution_count": null,
            "metadata": {},
            "outputs": [],
            "source": [
                "# Compute impulse responses and print the computed impulse responses. T=41, t0=5, shocks=[0.01,0]\n",
                "\n"
            ]
        },
        {
            "cell_type": "code",
            "execution_count": null,
            "metadata": {},
            "outputs": [],
            "source": [
                "# Plot the computed impulse responses to a TFP shock\n",
                "\n",
                "\n",
                "",
                "",
                "",
                "",
                ""
            ]
        },
        {
            "cell_type": "code",
            "execution_count": null,
            "metadata": {},
            "outputs": [],
            "source": [
                "# Compute stochastic simulation and print the simulated values.\n",
                "# seed=126, T=201,covMat= [[parameters['sigma_squared'],0],[0,0]]\n",
                "\n",
                "\n",
                "# Print first 10 rows of model.simulated\n"
            ]
        },
        {
            "cell_type": "code",
            "execution_count": null,
            "metadata": {},
            "outputs": [],
            "source": [
                "# Plot the computed stochastic simulation\n",
                "\n",
                "\n",
                "",
                "",
                "",
                "",
                ""
            ]
        },
        {
            "cell_type": "code",
            "execution_count": null,
            "metadata": {},
            "outputs": [],
            "source": [
                "# Compute correlations of simulated endogenous variables\n"
            ]
        },
        {
            "cell_type": "code",
            "execution_count": null,
            "metadata": {},
            "outputs": [],
            "source": [
                "# Compute standard deviations of simulated endogenous variables"
            ]
        }
    ],
    "metadata": {
        "anaconda-cloud": {},
        "kernelspec": {
            "display_name": "Python 3",
            "language": "python",
            "name": "python3"
        },
        "language_info": {
            "codemirror_mode": {
                "name": "ipython",
                "version": 3
            },
            "file_extension": ".py",
            "mimetype": "text/x-python",
            "name": "python",
            "nbconvert_exporter": "python",
            "pygments_lexer": "ipython3",
            "version": "3.7.1"
        }
    },
    "nbformat": 4,
    "nbformat_minor": 1
}