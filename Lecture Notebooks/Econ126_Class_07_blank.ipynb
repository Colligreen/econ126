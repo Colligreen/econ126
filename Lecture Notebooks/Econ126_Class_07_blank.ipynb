{
    "cells": [
        {
            "cell_type": "code",
            "execution_count": null,
            "metadata": {},
            "outputs": [],
            "source": [
                "import numpy as np\n",
                "import pandas as pd\n",
                "import matplotlib.pyplot as plt\n",
                "plt.style.use('classic')\n",
                "%matplotlib inline"
            ]
        },
        {
            "cell_type": "markdown",
            "metadata": {},
            "source": [
                "# Class 7: Deterministic Time Series Models\n",
                "\n",
                "\n",
                "Time series models are at the foundatation of dynamic macroeconomic theory. A time series model is an equation or system of equations that describes how the variables in the model change with time. Here, we examine some theory about **deterministic**, i.e., non-random, time series models and we explore methods for simulating them. Later, we'll examine the properties of **stochastic** time series models by introducing random variables to the discrete time models covered below.\n",
                "\n",
                "\n",
                "## Discrete Versus Continuous Time\n",
                "\n",
                "\n",
                "To begin, suppose that we are interested in a variable $y$ that takes on the value $y_t$ at date $t$. The date index $t$ is a real number. We'll say that $y_t$ is a **discrete time** variable if $t$ takes on values from a countable sequence; e.g. $t = 1, 2, 3 \\ldots$ and so on. Otherwise, if $t$ takes on values from an uncountable sequence; e.g. $t\\in \\mathbb{R}^+$, then we'll say that $y_t$ is a **continuous time** variable. Discrete and continuous time models both have important places in macroeconomic theory, but we're going to focus on understanding discrete time models.\n",
                "\n",
                "\n",
                "## First-Order Difference Equations\n",
                "\n",
                "\n",
                "Now, suppose that the variable $y_t$ is determined by a linear function of $y_{t-1}$ and some other exogenously given variable $w_t$\n",
                "\n",
                "\\begin{align}\n",
                "    y_{t} & =  (1- \\rho) \\mu + \\rho y_{t-1} + w_t,  \\tag{1}\\\\\n",
                "\\end{align}\n",
                "\n",
                "where $\\rho$ and $\\mu$ are constants. Equation (1) is an example of a **linear first-order difference equation**. As a *difference equation*, it specifies how $y_t$ is related to past values of $y$. The equation is a *first-order* difference equation because it specifies $y_t$ as a function only of $y_{t-1}$ and not $y_{t-2}$ or $y_{t-3}$ and so on. \n",
                "\n",
                "\n",
                "### Example: Compounding Interest\n",
                "\n",
                "Suppose that you have an initial balance of $b_0$ dollars in a savings account that pays an interest rate $i$ per compounding period. Then, after the first compounding, your account will have $b_1 = (1+i)b_0$ dollars in it. Assuming that you never withdraw funds from the account, then your account balance in any subsequent period $t$ is given by the following difference equation:\n",
                "\n",
                "\\begin{align}\n",
                "b_{t} & =  \\left(1+i\\right) b_{t-1}. \\tag{2}\n",
                "\\end{align}\n",
                "\n",
                "Equation (2) is linear first-order difference equation in the same form as Equation (1). You can see this by setting $y_t = b_t$, $\\rho=1+i$, $\\mu=0$, and $w_t=0$ in Equation (1).\n",
                "   \n",
                "### Example: Capital Accumulation\n",
                "\n",
                "Let $K_t$ denote the amount of physical capital in a country at date $t$, let $\\delta$ denote the rate at which the capital stock depreciates each period, and let $I_t$ denote the country's investment in new capital in date $t$. Then the law of motion for the stock of physical capital is:\n",
                "   \n",
                "\\begin{align}\n",
                "K_{t+1} & =  I_t + (1-\\delta)K_t. \\tag{3}\n",
                "\\end{align}\n",
                "       \n",
                "\n",
                "This standard expression for the law of motion for the capital stock is a linear first-order difference equation. To reconcile Equation (3) with Equation (1), set $y_t = K_{t+1}$, $\\rho=1-\\delta$, $\\mu=0$, and $w_t=I_t$. \n",
                "\n",
                "*Note*: There is a potentially confusing way in which we identified the $t+1$-dated variable $K_{t+1}$ with the $t$-dated variable $y_t$ in this example. We can do this because the value of $K_{t+1}$ truly is determined at date $t$ even though the capital isn't used for production until the next period."
            ]
        },
        {
            "cell_type": "markdown",
            "metadata": {},
            "source": [
                "## Computation\n",
                "\n",
                "From Equation (1), it's easy to compute the value of $y_t$ as long as you know the values of the constants $\\rho$ and $\\mu$ and the variables $y_{t-1}$ and $w_t$. To begin, let's suppose that the values of the constants are $\\mu=0$, $\\rho=0.5$. Then Equation (1) in our example looks like this:\n",
                "\n",
                "\\begin{align}\n",
                "y_{t} & =  0.5 y_{t-1} + w_t. \\tag{4}\\\\\n",
                "\\end{align}\n",
                "\n",
                "Now, suppose that the initial value of $y$ is $y_0=0$ and that $w$ is equal to 1 in the first period and equal to zero in subsequent periods. That is: $w_1=1$ and $w_2=w_3=\\cdots =0$. Now, with what we have, we can compute $y_1$. Here's how:"
            ]
        },
        {
            "cell_type": "code",
            "execution_count": null,
            "metadata": {},
            "outputs": [],
            "source": [
                "# Initialize values for rho y0, and w1\n",
                "\n",
                "\n",
                "",
                "",
                "# Compute the value of y1\n",
                "\n",
                "\n",
                "# Print the value of y1\n"
            ]
        },
        {
            "cell_type": "markdown",
            "metadata": {},
            "source": [
                "The variable `y1` in the preceding example stores the computed value for $y_1$. We can continue to *iterate* on Equation (4) to compute $y_2$, $y_3$, and so on. For example:"
            ]
        },
        {
            "cell_type": "code",
            "execution_count": null,
            "metadata": {},
            "outputs": [],
            "source": [
                "# Initialize value for rw2\n",
                "\n",
                "\n",
                "# Compute the value of y2\n",
                "\n",
                "\n",
                "# Compute the value of y2\n",
                "# Print the result\n"
            ]
        },
        {
            "cell_type": "markdown",
            "metadata": {},
            "source": [
                "We can do this as many times as necessary to reach the desired value of $t$. Note that iteration is necesary. There is no *vectorized* way to compute an array of values $\\left[y_1, y_2, y_3, \\ldots, y_{T}\\right]$  simultaneously. The linear first-order difference equation is an example of a *recursive* model and in general iteration is necessary for computing recursive models.\n",
                "\n",
                "Of course, there are smart ways to write code to simulate models. Rather than creating a bunch of variables `y1`, `y2`, etc., let's define a function called `diff1_example()`that takes as arguments $\\rho$, $y_0$m and an array of values for $w$, and returns an array of simulated $y$ values . The function should:\n",
                "\n",
                "1. Definie a variable named `T` equal to the length of  `w`\n",
                "2. Define an array of of length called `y` that is filled with zeros\n",
                "3. Set the first vale of `y` to $y_0$\n",
                "4. Fill-in the remaining values of `y` by iterating over:\n",
                "        y[t+1]=rho*y[t]+w[t+1]\n",
                "   for `t` in $[0,1,\\ldots, T-1]$\n",
                "5. Return `y`"
            ]
        },
        {
            "cell_type": "code",
            "execution_count": null,
            "metadata": {},
            "outputs": [],
            "source": [
                "# Define a function that returns an arrary of y-values given rho, y0, and an array of w values.\n",
                "\n",
                "\n",
                "",
                "",
                "",
                "",
                "",
                "",
                "",
                "",
                "",
                "",
                "",
                "",
                "",
                "",
                "",
                "",
                "",
                ""
            ]
        },
        {
            "cell_type": "markdown",
            "metadata": {},
            "source": [
                "### Example: Temporary Shcok to $w_t$ with $\\rho=0.5$\n",
                "\n",
                "Now, use the function `diff1_example()` to simulate $y$ for 11 periods (i.e., for $t = 0, 1, \\ldots 10$ with\n",
                "1. $\\rho=0.5$\n",
                "2. $w_1 = 1$ and $w_0 = w_2 = \\ldots = w_{10} = 0$ \n",
                "3. $y_0 = 0$\n",
                "4. $\\mu=0$"
            ]
        },
        {
            "cell_type": "code",
            "execution_count": null,
            "metadata": {},
            "outputs": [],
            "source": [
                "# Initialize the variable 'T' to be equal to the number of periods to simulate\n",
                "\n",
                "\n",
                "# Create new variable 'rho' equal to the value for rho\n",
                "\n",
                "\n",
                "# Create new variable 'y' equal to the initial value for y\n",
                "\n",
                "\n",
                "# Initialize variable 'w' and set initial value\n",
                "\n",
                "\n",
                "",
                "# Simulate y\n",
                "\n",
                "\n",
                "# Construct figure with two line graphs plotting the trajectories of y and w with:\n",
                "#    1. Plot for w in left panel and plot for y in right panel\n",
                "#    2. Clear title, x-, and y-axis labels\n",
                "#    3. y-axis limits [0,1.2]\n",
                "\n",
                "# Create figure\n",
                "\n",
                "\n",
                "# w trajectory\n",
                "\n",
                "\n",
                "",
                "",
                "",
                "",
                "",
                "",
                "# y trajectory\n",
                "\n",
                "\n",
                "",
                "",
                "",
                "",
                "",
                "",
                "# Use fig.tight_layout() to manage whitespace in the figure\n"
            ]
        },
        {
            "cell_type": "markdown",
            "metadata": {},
            "source": [
                "In period 1, the *shock* to $w_t$ creates an exogenous increase in the process $y_t$. Since $y_{t+1}$ depends on the value of $y_{t}$, the transient or temporary shock to $w_t$ has a persistent effect on the series $y_t$. We call plots like those in the previous figure **impulse responses** because they depict the *responses* of variables to a one-time shock or *impulse* in the exogenous variable."
            ]
        },
        {
            "cell_type": "markdown",
            "metadata": {},
            "source": [
                "### Example: Temporary Shcok to $w_t$ for Different Values of $\\rho$\n",
                "\n",
                "Next, use the function `diff1_example()` to simulate $y$ for 11 periods with:\n",
                "1. $\\rho=0.2, 0.4, 0.8, 0.1$\n",
                "2. $w_1 = 1$ and $w_0 = w_2 = \\ldots = w_{10} = 0$ \n",
                "3. $y_0 = 0$\n",
                "4. $\\mu=0$"
            ]
        },
        {
            "cell_type": "code",
            "execution_count": null,
            "metadata": {},
            "outputs": [],
            "source": [
                "# Note: Since T, w, and y0 are already defined, there's no need to re-define them\n",
                "\n",
                "# Create new variable 'rho' equal to the value for rho\n",
                "\n",
                "\n",
                "# Construct a line graph plotting the trajectories of y with:\n",
                "#    1. Clear title, x-, and y-axis labels\n",
                "#    2. Y-axis limits [0,1.2]\n",
                "#    3. Add a legend outside of the plot with arguments: loc='center left', bbox_to_anchor=(1, 0.5)\n",
                "\n",
                "\n",
                "",
                "",
                "# Iterate over rho in [0.1, 0.2, 0.3, ... , 0.9]. Simulate y for each rho and plot. Set plot label equal to rho value\n",
                "\n",
                "\n",
                "",
                "",
                "",
                "",
                "",
                "",
                "",
                ""
            ]
        },
        {
            "cell_type": "markdown",
            "metadata": {},
            "source": [
                "Apparently increasing $\\rho$ also increases the degree of persistence in the process $y$ following the shock to $w$. By $t=10$, the effects of the one-time increase in $w$ on $y$ have essentially dissipated for the simulations with $\\rho= 0.1, 0.2, \\ldots, 0.7$. But for $\\rho=0.8$, the value of the $y$ is still above $0.15$ in period $10$ and for $\\rho=0.9$, the process $y$ is nearly at $0.4$; i.e., nearly $40$ percent of the shock still remains. But regardless, in all cases it appears that $y$ approaches zero in the limit."
            ]
        },
        {
            "cell_type": "markdown",
            "metadata": {},
            "source": [
                "### Example: Temporary Shcok to $w_t$ for $\\rho=-0.5$\n",
                "\n",
                "Use the function `diff1_example()` to simulate $y$ for 11 periods with:\n",
                "1. $\\rho=-0.5$\n",
                "2. $w_1 = 1$ and $w_0 = w_2 = \\ldots = w_{10} = 0$ \n",
                "3. $y_0 = 0$\n",
                "4. $\\mu=0$"
            ]
        },
        {
            "cell_type": "code",
            "execution_count": null,
            "metadata": {},
            "outputs": [],
            "source": [
                "# Note: Since T, w, and y0 are already defined, there's no need to re-define them\n",
                "\n",
                "# Create new variable 'rho' equal to the value for rho\n",
                "\n",
                "\n",
                "# Simulate y\n",
                "\n",
                "\n",
                "# Construct a line graph plotting the trajectory of y with:\n",
                "#    1. Plot for y stacked on top of plot for w\n",
                "#    2. Clear title, x-, and y-axis labels\n",
                "#    3. Y-axis limits [-0.8,1.2]\n",
                "\n",
                "# Create figure\n",
                "\n",
                "\n",
                "# y trajectory\n",
                "\n",
                "\n",
                "",
                "",
                "",
                "",
                ""
            ]
        },
        {
            "cell_type": "markdown",
            "metadata": {},
            "source": [
                "With $\\rho=-0.5$, the sign of the pricess $y$ oscilates between positive and negative values but the absolute value of $y$ smoothly converges to zero in the limit."
            ]
        },
        {
            "cell_type": "markdown",
            "metadata": {},
            "source": [
                "### Example: Temporary Shcok to $w_t$ for $\\rho=1.5$ and $\\rho=-1.5$\n",
                "\n",
                "So far all of the values that we hav used for $\\rho$ have been less than 1 in absolute value and in all cases, the process $y$ has returned to zero in the limit. But this may not always be the case. Let's consider the cases where $\\rho=1.5$ and $\\rho=-1.5$.\n",
                "\n",
                "Use the function `diff1_example()` to simulate $y$ for 11 periods with:\n",
                "1. $\\rho=1.5$ (left panel) and $\\rho=-1.5$ (right panel)\n",
                "2. $w_1 = 1$ and $w_0 = w_2 = \\ldots = w_{10} = 0$ \n",
                "3. $y_0 = 0$\n",
                "4. $\\mu=0$"
            ]
        },
        {
            "cell_type": "code",
            "execution_count": null,
            "metadata": {},
            "outputs": [],
            "source": [
                "# Note: Since T, w, and y0 are already defined, there's no need to re-define them\n",
                "\n",
                "# Create figure\n",
                "\n",
                "\n",
                "# Set rho=1.5\n",
                "\n",
                "\n",
                "# Simulate y with rho = 1.5\n",
                "\n",
                "\n",
                "# plot trajectory of y with rho = 1.5\n",
                "\n",
                "\n",
                "",
                "",
                "",
                "",
                "",
                "",
                "# Set rho=-1.5\n",
                "\n",
                "\n",
                "# Simulate y with rho = -1.5\n",
                "\n",
                "\n",
                "# plot trajectory of y with rho = -1.5\n",
                "\n",
                "\n",
                "",
                "",
                "",
                "",
                ""
            ]
        },
        {
            "cell_type": "markdown",
            "metadata": {},
            "source": [
                "Unlike the earlier simulations, the ones in the previous example do not return to zero and instead either explode toward infinity ($\\rho = 1.5$) or oscillate towards positive and negative infinity. These two simulations are examples of *explosive processes* while the ones prior were examples of *stable processes*. In the next section, I elaborate on the notion of stability.\n",
                "\n"
            ]
        },
        {
            "cell_type": "markdown",
            "metadata": {},
            "source": [
                "## Stability of first-Order Difference Equations\n",
                "\n",
                "You might already see that the value of $\\rho$ is important in determining the stability of the process $y$, but we can see clearly why. Suppose that $\\mu=0$ (this just makes the argument more clear) and start with the equation for determining $y_1$:\n",
                "\n",
                "\\begin{align}\n",
                "y_1 & = \\rho y_0 + w_1\n",
                "\\end{align}\n",
                "\n",
                "The value for $y_2$ is determined by an analogous equation:\n",
                "\n",
                "\\begin{align}\n",
                "y_2 & = \\rho y_1 + w_2\n",
                "\\end{align}\n",
                "\n",
                "Then use the equation for $y_1$ to eliminate $y_1$ from the equation for $y_2$:\n",
                "\n",
                "\\begin{align}\n",
                "y_2 & = \\rho^2 y_0 + \\rho w_1 + w_2\n",
                "\\end{align}\n",
                "\n",
                "Continue this process to arrive at a formula that specifies the value of $y$ in period $T$ as a function of just $\\rho$, $y_0$, and the values of $w$: $w_1, w_2, \\ldots, w_T$:\n",
                "\n",
                "\\begin{align}\n",
                "y_T & = \\rho^T y_0 + \\rho^{T-1} w_1 + \\rho^{T-2} w_2 + \\cdots + \\rho w_{T-1} + w_T\\\\\n",
                "\\end{align}\n",
                "\n",
                "Then, you can see that the marginal effect of $w_1$ on $y_T$ is:\n",
                "\n",
                "\\begin{align}\n",
                "\\frac{\\partial y_T}{\\partial w_T} & = \\rho^T\n",
                "\\end{align}\n",
                "\n",
                "From this, there are three facts:\n",
                "\n",
                "1. If $|\\rho^T|<0$, then the process $y$ is **stable** because $|\\rho^T|\\rightarrow 0$ as $T\\rightarrow \\infty$.\n",
                "2. If $|\\rho^T|>0$, then the process $y$ is **explosive** because $|\\rho^T|\\rightarrow 0$ as $T\\rightarrow \\infty$.\n",
                "2. If $|\\rho^T|=1$, then the process $y$ is neither stable nor explosive because $|\\rho^T|\\rightarrow 1$ as $T\\rightarrow \\infty$.\n",
                "\n",
                "The final case, with $|\\rho^T|=1$, is closely related to the *random walk* stochastic process that is often used to describe finacial asset returns over short time horizons. We will encounter this process later.\n",
                "\n",
                "Stability is a fundamental concept in economics and thereare important roles for both model with stable and explosive properties."
            ]
        },
        {
            "cell_type": "markdown",
            "metadata": {},
            "source": [
                "### Application: The Perpetual Inventory Method\n",
                "\n",
                "The stock of physical capital is a fundamental component of many macroeconomic models but measuring, and therefore acquiring data on, the value of a country's capital stock is hard. The challenge arise because it is hard to estimate the value of something that is not changing ownership in a transaction. What is value of a high-rise apartment building that has had the same owner for 50 years?\n",
                "\n",
                "One way to overcome this challenge is to use the **perpetual inventory method**. The perpetual inventory method is based on the law of motion of the capital stock:\n",
                "\n",
                "\\begin{align}\n",
                "K_{t+1} & = I_t + (1-\\delta) K_t\n",
                "\\end{align}\n",
                "\n",
                "where $K_t$ denotes physical capital, $I_t$ denotes investment (purchases of new capital), and $\\delta$ denotes the rate of depreciation. Give $K_0$ and data on investment $I_0, I_1, \\ldots,$, the the capital stock in periods $1, 2, \\ldots$ can be computed iteratively. To obtain $K_0$, the method assumes that the economy is in  a steady state in the initial year. Recalle that in the steady state:\n",
                "\n",
                "\\begin{align}\n",
                "I & = \\delta K\n",
                "\\end{align}\n",
                "\n",
                "So, set $K_0 = \\delta{^-1} I_0$.\n",
                "\n",
                "Steps:\n",
                "\n",
                "1. Obtain real investment data (https://fred.stlouisfed.org/series/GPDICA)\n",
                "2. Select a value for the depreciation rate $\\delta$. 0.1 is a standard choice.\n",
                "3. Initialize an array of zeros (or an empty array) to store capital values\n",
                "4. Set the first value of the captial array equal to the $\\delta^{-1} I_0$\n",
                "5. Iterate over the values in the investment data to compute the remaining values of capital.\n",
                "\n",
                "Read Timothy Kehoe's notes (http://users.econ.umn.edu/~tkehoe/classes/GrowthAccountingNotes.pdf) for more background on the perpetual inventory method if you're interested."
            ]
        },
        {
            "cell_type": "code",
            "execution_count": null,
            "metadata": {},
            "outputs": [],
            "source": [
                "# Import real investment data from FRED into a DataFrame called `data` (PROVIDED)\n",
                "data = pd.read_csv('https://fred.stlouisfed.org/data/GPDICA.txt',sep='\\s+',skiprows=13,index_col=0,parse_dates=True)\n",
                "\n",
                "# Set the column attribute of data to ['Investment']\n",
                "\n",
                "\n",
                "# Set the index.name attribute of data to 'Date'\n",
                "\n",
                "\n",
                "# Set a value for delta\n",
                "\n",
                "\n",
                "# Create a variable called 'capital' equal to an array of zeros as long as data\n",
                "\n",
                "\n",
                "# Set the initial value of capital equal to initial investment divided by delta\n",
                "\n",
                "\n",
                "# Iterate over i in i in range(len(capital)-1) to construct values in the capital array\n",
                "\n",
                "\n",
                "",
                "# Add a 'Capital' column to data\n",
                "\n",
                "\n",
                "# Divide data by 1000 so that the data are in units are in trillions of $ (instead of billions)\n",
                "\n",
                "\n",
                "# Print the first 5 rows of data\n"
            ]
        },
        {
            "cell_type": "markdown",
            "metadata": {},
            "source": [
                "Now construct a figure that contains a plot of capital in the top panel and investment in the bottom panel."
            ]
        },
        {
            "cell_type": "code",
            "execution_count": null,
            "metadata": {},
            "outputs": [],
            "source": [
                "# Create figure\n",
                "\n",
                "\n",
                "# Construct plot of capital\n",
                "\n",
                "\n",
                "",
                "",
                "",
                "",
                "",
                "",
                "",
                "",
                "",
                "",
                "",
                ""
            ]
        },
        {
            "cell_type": "markdown",
            "metadata": {},
            "source": [
                "**Question**\n",
                "\n",
                "1. Why does the computed capital series fluctuate less than the investment data?\n",
                "2. Given that there are about 325 million people in the US, does the computed value in the last year look large, small, or about right on a per capita basis?"
            ]
        },
        {
            "cell_type": "markdown",
            "metadata": {},
            "source": [
                "**Answer**\n",
                "\n",
                "1.  \n\n",
                "2.  "
            ]
        }
    ],
    "metadata": {
        "anaconda-cloud": {},
        "kernelspec": {
            "display_name": "Python 3",
            "language": "python",
            "name": "python3"
        },
        "language_info": {
            "codemirror_mode": {
                "name": "ipython",
                "version": 3
            },
            "file_extension": ".py",
            "mimetype": "text/x-python",
            "name": "python",
            "nbconvert_exporter": "python",
            "pygments_lexer": "ipython3",
            "version": "3.7.1"
        }
    },
    "nbformat": 4,
    "nbformat_minor": 1
}