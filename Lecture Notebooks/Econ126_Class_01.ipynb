{
 "cells": [
  {
   "cell_type": "markdown",
   "metadata": {},
   "source": [
    "## Example 1: `Hello world`"
   ]
  },
  {
   "cell_type": "code",
   "execution_count": 7,
   "metadata": {},
   "outputs": [
    {
     "name": "stdout",
     "output_type": "stream",
     "text": [
      "Hello world!\n"
     ]
    }
   ],
   "source": [
    "# Print the character string `Hello world!`\n",
    "print('Hello world!')"
   ]
  },
  {
   "cell_type": "markdown",
   "metadata": {},
   "source": [
    "## Example 2: Make a plot of the US unemployment rate\n",
    "\n",
    "Download unemployment rate data from FRED (https://fred.stlouisfed.org/series/UNRATE/) and make a well-labeled plot."
   ]
  },
  {
   "cell_type": "code",
   "execution_count": 8,
   "metadata": {},
   "outputs": [
    {
     "data": {
      "text/html": [
       "<div>\n",
       "<style scoped>\n",
       "    .dataframe tbody tr th:only-of-type {\n",
       "        vertical-align: middle;\n",
       "    }\n",
       "\n",
       "    .dataframe tbody tr th {\n",
       "        vertical-align: top;\n",
       "    }\n",
       "\n",
       "    .dataframe thead th {\n",
       "        text-align: right;\n",
       "    }\n",
       "</style>\n",
       "<table border=\"1\" class=\"dataframe\">\n",
       "  <thead>\n",
       "    <tr style=\"text-align: right;\">\n",
       "      <th></th>\n",
       "      <th>VALUE</th>\n",
       "    </tr>\n",
       "    <tr>\n",
       "      <th>DATE</th>\n",
       "      <th></th>\n",
       "    </tr>\n",
       "  </thead>\n",
       "  <tbody>\n",
       "    <tr>\n",
       "      <td>1948-01-01</td>\n",
       "      <td>3.4</td>\n",
       "    </tr>\n",
       "    <tr>\n",
       "      <td>1948-02-01</td>\n",
       "      <td>3.8</td>\n",
       "    </tr>\n",
       "    <tr>\n",
       "      <td>1948-03-01</td>\n",
       "      <td>4.0</td>\n",
       "    </tr>\n",
       "    <tr>\n",
       "      <td>1948-04-01</td>\n",
       "      <td>3.9</td>\n",
       "    </tr>\n",
       "    <tr>\n",
       "      <td>1948-05-01</td>\n",
       "      <td>3.5</td>\n",
       "    </tr>\n",
       "  </tbody>\n",
       "</table>\n",
       "</div>"
      ],
      "text/plain": [
       "            VALUE\n",
       "DATE             \n",
       "1948-01-01    3.4\n",
       "1948-02-01    3.8\n",
       "1948-03-01    4.0\n",
       "1948-04-01    3.9\n",
       "1948-05-01    3.5"
      ]
     },
     "execution_count": 8,
     "metadata": {},
     "output_type": "execute_result"
    }
   ],
   "source": [
    "# Import the pandas library as pd\n",
    "import pandas as pd\n",
    "\n",
    "# Import the plotting library matplotlib.pyplot as plt\n",
    "import matplotlib.pyplot as plt\n",
    "\n",
    "# Download the unemployment rate data (PROVIDED)\n",
    "unemployment = pd.read_csv('https://fred.stlouisfed.org/data/UNRATE.txt',skiprows=24,sep='\\s+',index_col=0,parse_dates = True)\n",
    "\n",
    "# Print first 5 rows of unemployment variable\n",
    "unemployment.head()"
   ]
  },
  {
   "cell_type": "code",
   "execution_count": 9,
   "metadata": {},
   "outputs": [
    {
     "data": {
      "image/png": "[encoded data removed]",
      "text/plain": [
       "<Figure size 432x288 with 1 Axes>"
      ]
     },
     "metadata": {
      "needs_background": "light"
     },
     "output_type": "display_data"
    }
   ],
   "source": [
    "# Create a well-labeled plot of the US unemployment rate\n",
    "unemployment.plot(legend=False,lw=3,alpha=0.75)\n",
    "plt.ylabel('Percent')\n",
    "plt.xlabel('Date')\n",
    "plt.title('US Unemployment Rate')\n",
    "\n",
    "# Save the figure to the current working directory at 120 dots per inch resolution\n",
    "plt.savefig('unemployment.png',dpi=120)"
   ]
  },
  {
   "cell_type": "markdown",
   "metadata": {},
   "source": [
    "## Example 2: Date and time\n",
    "\n",
    "Use the `datetime` module to print the current date and time"
   ]
  },
  {
   "cell_type": "code",
   "execution_count": 10,
   "metadata": {},
   "outputs": [
    {
     "name": "stdout",
     "output_type": "stream",
     "text": [
      "2020-01-03 14:25:29.910122\n"
     ]
    }
   ],
   "source": [
    "# Import the datetime module\n",
    "import datetime\n",
    "\n",
    "# Create a variable called `today` that stores the current date and time\n",
    "today = datetime.datetime.today()\n",
    "\n",
    "# Print the value of `today`\n",
    "print(today)"
   ]
  },
  {
   "cell_type": "code",
   "execution_count": 11,
   "metadata": {},
   "outputs": [
    {
     "name": "stdout",
     "output_type": "stream",
     "text": [
      "January 03, 2020\n"
     ]
    }
   ],
   "source": [
    "# Print today's date formatted as: month day, year\n",
    "print(today.strftime('%B %d, %Y'))"
   ]
  },
  {
   "cell_type": "code",
   "execution_count": 13,
   "metadata": {},
   "outputs": [
    {
     "name": "stdout",
     "output_type": "stream",
     "text": [
      "02:25:29\n"
     ]
    }
   ],
   "source": [
    "# Print the time component of `today` as: HH:MM:SS\n",
    "print(today.strftime('%I:%M:%S'))"
   ]
  },
  {
   "cell_type": "markdown",
   "metadata": {},
   "source": [
    "## Example 3: Approximate a geometric series\n",
    "\n",
    "\n",
    "Consider the infinite geometric series:\n",
    "\n",
    "\\begin{align}\n",
    "\\sum_{k=0}^{\\infty} r^k & = r + r + r^2 + r^3 + \\cdots\n",
    "\\end{align}\n",
    "\n",
    "If $|r|<1$, then the series converges to:\n",
    "\n",
    "\\begin{align}\n",
    "\\frac{1}{1+r}\n",
    "\\end{align}\n",
    "\n",
    "We can verify this fact numerically by computing the *truncated* series, i.e., compute the series to a finite number of terms. We will do this for $r=0.2$. The idea is to create a variable $s$ that is initially equal to zero. Then we let $k$ increment from 0, 1, up to $N$ and each time add $r^k$ to $s$."
   ]
  },
  {
   "cell_type": "code",
   "execution_count": 14,
   "metadata": {},
   "outputs": [
    {
     "name": "stdout",
     "output_type": "stream",
     "text": [
      "1.0\n",
      "1.2\n",
      "1.24\n",
      "1.248\n",
      "1.2496\n",
      "1.2499200000000001\n",
      "1.2499840000000002\n",
      "1.2499968000000001\n",
      "1.2499993600000001\n",
      "1.249999872\n",
      "1.2499999744\n",
      "1.24999999488\n",
      "1.249999998976\n",
      "1.2499999997952\n",
      "1.24999999995904\n",
      "1.249999999991808\n",
      "1.2499999999983618\n",
      "1.2499999999996725\n",
      "1.2499999999999347\n",
      "1.2499999999999871\n",
      "1.2499999999999976\n",
      "1.2499999999999996\n",
      "1.25\n",
      "1.25\n",
      "1.25\n",
      "1.25\n"
     ]
    }
   ],
   "source": [
    "# Set the value of r\n",
    "r = 0.2\n",
    "\n",
    "# Create a variable `N` that stores the desired number of terms to compute\n",
    "N = 25\n",
    "\n",
    "# Initialize a variable that will store the value of the summation. Set equal to tzero\n",
    "s = 0\n",
    "\n",
    "# Iterate over values of k fron 0 to N. Add the new term to the sum and print the current value of the sum\n",
    "for k in range(N+1):\n",
    "    s+=r**k\n",
    "    print(s)"
   ]
  }
 ],
 "metadata": {
  "anaconda-cloud": {},
  "kernelspec": {
   "display_name": "Python 3",
   "language": "python",
   "name": "python3"
  },
  "language_info": {
   "codemirror_mode": {
    "name": "ipython",
    "version": 3
   },
   "file_extension": ".py",
   "mimetype": "text/x-python",
   "name": "python",
   "nbconvert_exporter": "python",
   "pygments_lexer": "ipython3",
   "version": "3.7.4"
  }
 },
 "nbformat": 4,
 "nbformat_minor": 1
}
