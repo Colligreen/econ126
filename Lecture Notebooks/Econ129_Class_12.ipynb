{
 "cells": [
  {
   "cell_type": "code",
   "execution_count": 16,
   "metadata": {},
   "outputs": [],
   "source": [
    "import numpy as np\n",
    "import pandas as pd\n",
    "import matplotlib.pyplot as plt\n",
    "plt.style.use('classic')\n",
    "%matplotlib inline"
   ]
  },
  {
   "cell_type": "markdown",
   "metadata": {},
   "source": [
    "# Class 12: Introduction to the `linearsolve` Module\n",
    "\n",
    "In general, dynamic stochastic general equilibrium (DSGE) models do not admit analytic (i.e., pencil-and-paper) solutions and they are time-consuming to work with. The `linearsolve` module approximates, solves, and simulates DSGE models.\n",
    "\n",
    "## Installing `linearsolve`\n",
    "\n",
    "`linearsolve` is not included in the Anaconda Python installation and so before you can import it, you need to download and install the `linearsolve` package from PyPI, the Python Package Index. In Windows, open the Anaconda Prompt and in Mac, open the Terminal and run the following commmand:\n",
    "\n",
    "    pip install linearsolve\n",
    "    \n",
    "You only have to install the package once."
   ]
  },
  {
   "cell_type": "code",
   "execution_count": 209,
   "metadata": {},
   "outputs": [],
   "source": [
    "# Import the linearsolve under the 'ls' namespace\n",
    "import linearsolve as ls"
   ]
  },
  {
   "cell_type": "markdown",
   "metadata": {},
   "source": [
    "## Example: A One-Equation Model of TFP\n",
    "\n",
    "Consider the following AR(1) specification for $\\log$ TFP:\n",
    "\n",
    "\\begin{align}\n",
    "\\log A_{t+1} & = \\rho \\log A_t + \\epsilon_{t+1} \\tag{1}\n",
    "\\end{align}\n",
    "\n",
    "where $\\epsilon_{t+1} \\sim \\mathcal{N}(0,\\sigma^2)$. Let's simulate the model with `linearsolve`. To do this we need to do several things:\n",
    "\n",
    "1. Create a Pandas series that stores the names of the parameters of the model.\n",
    "2. Define a function that returns the equilibrium conditions of the model solved for zero.\n",
    "3. Initialize an instance of the `linearsolve.model` class\n",
    "4. Compute and input the steady state of the model.\n",
    "5. Approximate and solve the model.\n",
    "6. Compute simulations of the model."
   ]
  },
  {
   "cell_type": "markdown",
   "metadata": {},
   "source": [
    "**Step 1:** Create a variable called `parameters` that stores parameter values as a Pandas Series."
   ]
  },
  {
   "cell_type": "code",
   "execution_count": 210,
   "metadata": {},
   "outputs": [
    {
     "name": "stdout",
     "output_type": "stream",
     "text": [
      "rho              0.9\n",
      "sigma_squared    1.0\n",
      "dtype: float64\n"
     ]
    }
   ],
   "source": [
    "# Create a variable called 'parameters' that stores parameter values as a Pandas Series\n",
    "parameters = pd.Series()\n",
    "parameters['rho'] = .9\n",
    "parameters['sigma_squared'] = 1\n",
    "\n",
    "# Print stored parameter values\n",
    "print(parameters)"
   ]
  },
  {
   "cell_type": "markdown",
   "metadata": {},
   "source": [
    "**Step 2:** Define a function called `equilibrium_equations` that evaluates the equilibrium \n",
    "equations of model solved for zero. The function should accept three arguments:\n",
    "\n",
    "1. `variables_forward`: Values of $t+1$-dated variables\n",
    "2. `variables_current`: Values of $t-1$-dated variables\n",
    "3. `parameters`: Pandas Series with the parameters for the model\n",
    "\n",
    "The function should return a NumPy array of the model's equilibrium conditions solved for zero."
   ]
  },
  {
   "cell_type": "code",
   "execution_count": 222,
   "metadata": {},
   "outputs": [],
   "source": [
    "# Define a function called 'equilibrium_equations' that evaluates the equilibrium equations of model. PROVIDED\n",
    "def equilibrium_equations(variables_forward,variables_current,parameters):\n",
    "    \n",
    "    # Create a variable called 'p' that storres the model's parameters. PROVIDED.\n",
    "    p = parameters\n",
    "    \n",
    "    # Create variable called 'cur' that stores the values of current (date t) variables. PROVIDED.\n",
    "    cur = variables_current\n",
    "    \n",
    "    # Create variable called 'fwd' that stores the values of one-period-ahead (date t+1) variables. PROVIDED.\n",
    "    fwd = variables_forward\n",
    "\n",
    "    # Create variable called 'tfp_proc' that returns the law of motion for TFP solved for zero (exogenous shock excluded)\n",
    "    tfp_proc = p.rho*np.log(cur.a) - np.log(fwd.a)\n",
    "    \n",
    "    # Return equilibrium conditions stacked in a numpy array. PROVIDED.\n",
    "    return np.array([\n",
    "        tfp_proc\n",
    "        ])"
   ]
  },
  {
   "cell_type": "markdown",
   "metadata": {},
   "source": [
    "**Step 3:** Initialize a model instance using the `ls.model()` function. The \n",
    "\n",
    "1. `equations`: Name of function that stores the equilibrium conditions\n",
    "2. `nstates`: Number of *state* variables (i.e., variables that are *predetermined*)\n",
    "3. `varNames`: List of the names of the endogenous variables\n",
    "4. `shockNames`: List of the names of the exogenous shocks\n",
    "5. `parameters`: Pandas Series of parameter values"
   ]
  },
  {
   "cell_type": "code",
   "execution_count": 214,
   "metadata": {},
   "outputs": [],
   "source": [
    "# Initialize a model instance using the ls.model() function\n",
    "model = ls.model(equations = equilibrium_equations,\n",
    "                 nstates=1,\n",
    "                 varNames=['a'],\n",
    "                 shockNames=['eA'],\n",
    "                 parameters = parameters)"
   ]
  },
  {
   "cell_type": "markdown",
   "metadata": {},
   "source": [
    "**Step 4:** Set the steady state of the model. Either use the `.compute_ss()` method which requires an initial guess of what the steady state is. Or set the steady state `.ss` attribute directly."
   ]
  },
  {
   "cell_type": "code",
   "execution_count": 226,
   "metadata": {},
   "outputs": [
    {
     "name": "stdout",
     "output_type": "stream",
     "text": [
      "a    1.0\n",
      "dtype: float64\n"
     ]
    }
   ],
   "source": [
    "# Use linearsolve to compute the steady state of the model using the .compute_ss() method of model\n",
    "model.compute_ss([1])\n",
    "print(model.ss)"
   ]
  },
  {
   "cell_type": "code",
   "execution_count": 227,
   "metadata": {},
   "outputs": [],
   "source": [
    "# Set the .ss attribute of model directly.\n",
    "model.ss = pd.Series({'a':1})"
   ]
  },
  {
   "cell_type": "markdown",
   "metadata": {},
   "source": [
    "**Step 5:** Compute a transform the model into a log-linear approximation around the nonstochastic steady state. Then rewrite the equilibrium conditions so that all endogenous variables are expressed as linear functions of state variables and exogenous shocks."
   ]
  },
  {
   "cell_type": "code",
   "execution_count": 228,
   "metadata": {},
   "outputs": [],
   "source": [
    "# Appproximate and solve using the .approximate_and_solve() method\n",
    "model.approximate_and_solve()"
   ]
  },
  {
   "cell_type": "markdown",
   "metadata": {},
   "source": [
    "**Step 6:** Simulate the model using one of the following methods:\n",
    "\n",
    "1. `.impulse()`: Compute impulse responses to a one-time shock to each exogenous variables. Results stored in `.irs` attribute.\n",
    "2. `.stoch_sim()`: Compute stochastic simulation. Results stored in `.simulated` attribute.\n",
    "\n",
    "First, we'll compute an impulse response simulation. Let's consider the effect of a one time shock to $\\epsilon$ of 0.01 in period 5. Simulate 41 periods."
   ]
  },
  {
   "cell_type": "code",
   "execution_count": 263,
   "metadata": {},
   "outputs": [
    {
     "name": "stdout",
     "output_type": "stream",
     "text": [
      "{'eA':       eA             a         k         y\n",
      "0   0.00  0.000000e+00  0.000000  0.000000\n",
      "1   0.00  0.000000e+00  0.000000  0.000000\n",
      "2   0.00  0.000000e+00  0.000000  0.000000\n",
      "3   0.00  0.000000e+00  0.000000  0.000000\n",
      "4   0.00  0.000000e+00  0.000000  0.000000\n",
      "5   0.01  1.000000e-02  0.000000  0.010000\n",
      "6   0.00  7.500000e-03  0.000250  0.007588\n",
      "7   0.00  5.625000e-03  0.000433  0.005777\n",
      "8   0.00  4.218750e-03  0.000567  0.004417\n",
      "9   0.00  3.164063e-03  0.000663  0.003396\n",
      "10  0.00  2.373047e-03  0.000732  0.002629\n",
      "11  0.00  1.779785e-03  0.000779  0.002052\n",
      "12  0.00  1.334839e-03  0.000811  0.001619\n",
      "13  0.00  1.001129e-03  0.000831  0.001292\n",
      "14  0.00  7.508469e-04  0.000843  0.001046\n",
      "15  0.00  5.631351e-04  0.000848  0.000860\n",
      "16  0.00  4.223514e-04  0.000848  0.000719\n",
      "17  0.00  3.167635e-04  0.000845  0.000612\n",
      "18  0.00  2.375726e-04  0.000839  0.000531\n",
      "19  0.00  1.781795e-04  0.000831  0.000469\n",
      "20  0.00  1.336346e-04  0.000822  0.000421\n",
      "21  0.00  1.002260e-04  0.000812  0.000384\n",
      "22  0.00  7.516947e-05  0.000801  0.000356\n",
      "23  0.00  5.637710e-05  0.000790  0.000333\n",
      "24  0.00  4.228283e-05  0.000779  0.000315\n",
      "25  0.00  3.171212e-05  0.000767  0.000300\n",
      "26  0.00  2.378409e-05  0.000756  0.000288\n",
      "27  0.00  1.783807e-05  0.000744  0.000278\n",
      "28  0.00  1.337855e-05  0.000732  0.000270\n",
      "29  0.00  1.003391e-05  0.000721  0.000262\n",
      "30  0.00  7.525435e-06  0.000709  0.000256\n",
      "31  0.00  5.644076e-06  0.000698  0.000250\n",
      "32  0.00  4.233057e-06  0.000687  0.000245\n",
      "33  0.00  3.174793e-06  0.000676  0.000240\n",
      "34  0.00  2.381095e-06  0.000665  0.000235\n",
      "35  0.00  1.785821e-06  0.000654  0.000231\n",
      "36  0.00  1.339366e-06  0.000643  0.000227\n",
      "37  0.00  1.004524e-06  0.000633  0.000223\n",
      "38  0.00  7.533932e-07  0.000623  0.000219\n",
      "39  0.00  5.650449e-07  0.000613  0.000215\n",
      "40  0.00  4.237837e-07  0.000603  0.000211}\n"
     ]
    }
   ],
   "source": [
    "# Compute impulse response of a to a one-time shock to eA\n",
    "model.impulse(T=41,t0=5,shocks=[0.01])\n",
    "\n",
    "# Print model.irs\n",
    "print(model.irs)"
   ]
  },
  {
   "cell_type": "code",
   "execution_count": 264,
   "metadata": {},
   "outputs": [
    {
     "name": "stdout",
     "output_type": "stream",
     "text": [
      "     eA         a         k         y\n",
      "0  0.00  0.000000  0.000000  0.000000\n",
      "1  0.00  0.000000  0.000000  0.000000\n",
      "2  0.00  0.000000  0.000000  0.000000\n",
      "3  0.00  0.000000  0.000000  0.000000\n",
      "4  0.00  0.000000  0.000000  0.000000\n",
      "5  0.01  0.010000  0.000000  0.010000\n",
      "6  0.00  0.007500  0.000250  0.007588\n",
      "7  0.00  0.005625  0.000433  0.005777\n",
      "8  0.00  0.004219  0.000567  0.004417\n",
      "9  0.00  0.003164  0.000663  0.003396\n"
     ]
    }
   ],
   "source": [
    "# Print element in model.irs that corresponds to shock to TFP\n",
    "print(model.irs['eA'].head(10))"
   ]
  },
  {
   "cell_type": "code",
   "execution_count": 265,
   "metadata": {},
   "outputs": [
    {
     "data": {
      "text/plain": [
       "<matplotlib.legend.Legend at 0x101d919828>"
      ]
     },
     "execution_count": 265,
     "metadata": {},
     "output_type": "execute_result"
    },
    {
     "data": {
      "image/png": "[encoded data removed]",
      "text/plain": [
       "<Figure size 432x288 with 1 Axes>"
      ]
     },
     "metadata": {
      "needs_background": "light"
     },
     "output_type": "display_data"
    }
   ],
   "source": [
    "# Plot simulation\n",
    "model.irs['eA'][['eA','a']].plot(lw='3',alpha=0.5,grid=True).legend(loc='upper right',ncol=2)"
   ]
  },
  {
   "cell_type": "markdown",
   "metadata": {},
   "source": [
    "Next, we'll use the `.stoch_sim()` method to compute a stochastic simulation. The method takes arguments:\n",
    "\n",
    "1. `seed`: Seed of NumPy RNG. (Optional)\n",
    "2. `T`: Number of periods to simulate\n",
    "3. `covMat`: Covariance matrix for exogenous shock process\n",
    "\n",
    "The simulation should be for 201 periods."
   ]
  },
  {
   "cell_type": "code",
   "execution_count": 266,
   "metadata": {},
   "outputs": [
    {
     "name": "stdout",
     "output_type": "stream",
     "text": [
      "         eA   eK         a         k         y\n",
      "0 -0.003604  0.0 -0.002612 -0.001574 -0.003162\n",
      "1  0.004610  0.0  0.002651 -0.001613  0.002087\n",
      "2 -0.003900  0.0 -0.001912 -0.001521 -0.002444\n",
      "3 -0.000264  0.0 -0.001698 -0.001544 -0.002239\n",
      "4 -0.000491  0.0 -0.001765 -0.001561 -0.002312\n",
      "5  0.001842  0.0  0.000518 -0.001580 -0.000035\n",
      "6  0.003770  0.0  0.004159 -0.001541  0.003619\n",
      "7  0.000871  0.0  0.003989 -0.001412  0.003495\n",
      "8  0.001788  0.0  0.004780 -0.001290  0.004329\n",
      "9 -0.005110  0.0 -0.001525 -0.001149 -0.001927\n"
     ]
    }
   ],
   "source": [
    "# Compute stochastic simulation\n",
    "model.stoch_sim(seed=126,T=201,covMat= [[parameters['sigma_squared']]])\n",
    "\n",
    "# Print the first 10 rows of `model.simulated`\n",
    "print(model.simulated.head(10))"
   ]
  },
  {
   "cell_type": "code",
   "execution_count": 267,
   "metadata": {},
   "outputs": [
    {
     "data": {
      "text/plain": [
       "<matplotlib.legend.Legend at 0x101d925940>"
      ]
     },
     "execution_count": 267,
     "metadata": {},
     "output_type": "execute_result"
    },
    {
     "data": {
      "image/png": "[encoded data removed]",
      "text/plain": [
       "<Figure size 432x288 with 1 Axes>"
      ]
     },
     "metadata": {
      "needs_background": "light"
     },
     "output_type": "display_data"
    }
   ],
   "source": [
    "# Plot the stochastic simulation\n",
    "model.simulated[['eA','a']].plot(lw='3',alpha=0.5,grid=True).legend(loc='upper right',ncol=2)"
   ]
  },
  {
   "cell_type": "markdown",
   "metadata": {},
   "source": [
    "## Example 2: The STochastic Solow Growth Model Revisited\n",
    "\n",
    "Now consider the following system of equations:\n",
    "\n",
    "\\begin{align}\n",
    "Y_t & = A_t K_t^{\\alpha} \\tag{2}\\\\\n",
    "K_{t+1} & = sY_t + (1-\\delta) K_t \\tag{3}\\\\\n",
    "\\log A_{t+1} & = \\rho \\log A_t + \\epsilon_{t+1} \\tag{4}\n",
    "\\end{align}\n",
    "\n",
    "where $\\epsilon_{t+1} \\sim \\mathcal{N}(0,\\sigma^2)$. Let's simulate the model with `linearsolve`. Before proceding, let's also go ahead and rewrite the model with all variables moved to the lefthand side of the equations:\n",
    "\n",
    "\\begin{align}\n",
    "0 & = A_t K_t^{\\alpha} - Y_t \\tag{5}\\\\\n",
    "0 & = sY_t + (1-\\delta) K_t - K_{t+1} \\tag{6}\\\\\n",
    "0 & = \\rho \\log A_t + \\epsilon_{t+1} - \\log A_{t+1} \\tag{7}\n",
    "\\end{align}\n",
    "\n",
    "Capital and TFP are called *state variables* because they're $t+1$ values are predetermined. Output is called a *costate* or *control* variable. Note that the model as 3 endogenous variables with 2 state variables. \n",
    "\n",
    "Use the following parameter values:\n",
    "\n",
    "\n",
    "For the other parameter, use the following values for the simulation:\n",
    "\n",
    "| $\\rho$ | $\\sigma$ | $s$ | $\\alpha$ | $\\delta $ | $T$  |\n",
    "|--------|----------|-----|----------|-----------|------|\n",
    "| 0.75   | 0.006    | 0.1 | 0.35     |  0.025    | 201  |"
   ]
  },
  {
   "cell_type": "code",
   "execution_count": 268,
   "metadata": {},
   "outputs": [
    {
     "name": "stdout",
     "output_type": "stream",
     "text": [
      "rhoa             0.750000\n",
      "sigma_squared    0.000036\n",
      "alpha            0.350000\n",
      "delta            0.025000\n",
      "s                0.100000\n",
      "dtype: float64\n"
     ]
    }
   ],
   "source": [
    "# Input model parameters\n",
    "parameters = pd.Series()\n",
    "parameters['rhoa'] = .75\n",
    "parameters['sigma_squared'] = 0.006**2\n",
    "parameters['alpha'] = 0.35\n",
    "parameters['delta'] = 0.025\n",
    "parameters['s'] = 0.1\n",
    "\n",
    "# Print the model's parameters\n",
    "print(parameters)"
   ]
  },
  {
   "cell_type": "code",
   "execution_count": 269,
   "metadata": {},
   "outputs": [],
   "source": [
    "# Define a function that evaluates the equilibrium conditions. PROVIDED\n",
    "def equilibrium_equations(variables_forward,variables_current,parameters):\n",
    "    \n",
    "    # Parameters. PROVIDED\n",
    "    p = parameters\n",
    "    \n",
    "    # Current variables. PROVIDED\n",
    "    cur = variables_current\n",
    "    \n",
    "    # Forward variables. PROVIDED\n",
    "    fwd = variables_forward\n",
    "\n",
    "        \n",
    "    # Production function\n",
    "    prod_fn = cur.a*cur.k**p.alpha - cur.y\n",
    "    \n",
    "    # Capital evolution\n",
    "    capital_evolution = p.s*cur.a*cur.k**p.alpha + (1 - p.delta)*cur.k - fwd.k\n",
    "    \n",
    "    # Exogenous tfp\n",
    "    tfp_proc = p.rhoa*np.log(cur.a) - np.log(fwd.a)\n",
    "    \n",
    "    \n",
    "    # Stack equilibrium conditions into a numpy array\n",
    "    return np.array([\n",
    "        prod_fn,\n",
    "        capital_evolution,\n",
    "        tfp_proc\n",
    "        ])"
   ]
  },
  {
   "cell_type": "code",
   "execution_count": 270,
   "metadata": {},
   "outputs": [],
   "source": [
    "# Initialize the model\n",
    "model = ls.model(equations = equilibrium_equations,\n",
    "                 nstates=2,\n",
    "                 varNames=['a','k','y'],\n",
    "                 shockNames=['eA','eK'],\n",
    "                 parameters = parameters)"
   ]
  },
  {
   "cell_type": "code",
   "execution_count": 271,
   "metadata": {},
   "outputs": [
    {
     "name": "stdout",
     "output_type": "stream",
     "text": [
      "a    1.000000\n",
      "k    8.438129\n",
      "y    2.109532\n",
      "dtype: float64\n"
     ]
    }
   ],
   "source": [
    "# Compute the steady state numerically using linearsolve\n",
    "guess = [1,4,1]\n",
    "model.compute_ss(guess)\n",
    "\n",
    "# Print the computed steady state\n",
    "print(model.ss)"
   ]
  },
  {
   "cell_type": "code",
   "execution_count": 272,
   "metadata": {},
   "outputs": [],
   "source": [
    "# Find the log-linear approximation around the non-stochastic steady state and solve\n",
    "model.approximate_and_solve()"
   ]
  },
  {
   "cell_type": "markdown",
   "metadata": {},
   "source": [
    "The previous step constructs a log-linear approximation of the model and then solves for the endogenous variables as functions of the state variables and exogenous shocks only:\n",
    "\n",
    "\\begin{align}\n",
    "\\left[ \\hat{y}_t\\right]  &  = F \\left[\\begin{array}{c} \\hat{a}_t \\\\ \\hat{k}_t \\end{array}\\right]\\\\\n",
    "\\left[\\begin{array}{c} \\hat{a}_{t+1} \\\\ \\hat{k}_{t+1} \\end{array}\\right] & = P \\left[\\begin{array}{c} \\hat{a}_t \\\\ \\hat{k}_t \\end{array}\\right] + \\left[\\begin{array}{c} \\epsilon_{t+1}^a \\\\ \\epsilon^k_{t+1} \\end{array}\\right].\n",
    "\\end{align}\n",
    "\n",
    "where $F$ and $P$ are coefficient matrices computed by the program."
   ]
  },
  {
   "cell_type": "code",
   "execution_count": 273,
   "metadata": {},
   "outputs": [
    {
     "name": "stdout",
     "output_type": "stream",
     "text": [
      "[[0.75    0.     ]\n",
      " [0.025   0.98375]]\n"
     ]
    }
   ],
   "source": [
    "# Print the coeficient matrix P\n",
    "print(model.p)"
   ]
  },
  {
   "cell_type": "code",
   "execution_count": 274,
   "metadata": {},
   "outputs": [
    {
     "name": "stdout",
     "output_type": "stream",
     "text": [
      "[[1.   0.35]]\n"
     ]
    }
   ],
   "source": [
    "# Print the coeficient matrix F\n",
    "print(model.f)"
   ]
  },
  {
   "cell_type": "code",
   "execution_count": 282,
   "metadata": {},
   "outputs": [
    {
     "name": "stdout",
     "output_type": "stream",
     "text": [
      "     eA         a         k         y\n",
      "0  0.00  0.000000  0.000000  0.000000\n",
      "1  0.00  0.000000  0.000000  0.000000\n",
      "2  0.00  0.000000  0.000000  0.000000\n",
      "3  0.00  0.000000  0.000000  0.000000\n",
      "4  0.00  0.000000  0.000000  0.000000\n",
      "5  0.01  0.010000  0.000000  0.010000\n",
      "6  0.00  0.007500  0.000250  0.007588\n",
      "7  0.00  0.005625  0.000433  0.005777\n",
      "8  0.00  0.004219  0.000567  0.004417\n",
      "9  0.00  0.003164  0.000663  0.003396\n"
     ]
    }
   ],
   "source": [
    "# Compute impulse responses and print the computed impulse responses. T=41, t0=5, shocks=[0.01,0]\n",
    "model.impulse(T=41,t0=5,shocks=[0.01,0])\n",
    "print(model.irs['eA'].head(10))"
   ]
  },
  {
   "cell_type": "code",
   "execution_count": 283,
   "metadata": {},
   "outputs": [
    {
     "data": {
      "text/plain": [
       "<matplotlib.legend.Legend at 0x101e6c2128>"
      ]
     },
     "execution_count": 283,
     "metadata": {},
     "output_type": "execute_result"
    },
    {
     "data": {
      "image/png": "[encoded data removed]",
      "text/plain": [
       "<Figure size 864x288 with 2 Axes>"
      ]
     },
     "metadata": {
      "needs_background": "light"
     },
     "output_type": "display_data"
    }
   ],
   "source": [
    "# Plot the computed impulse responses to a TFP shock\n",
    "fig = plt.figure(figsize=(12,4))\n",
    "\n",
    "ax1 = fig.add_subplot(1,2,1)\n",
    "model.irs['eA'][['a','y','k']].plot(lw='5',alpha=0.5,grid=True,ax = ax1).legend(loc='upper right',ncol=2)\n",
    "\n",
    "ax2 = fig.add_subplot(1,2,2)\n",
    "model.irs['eA'][['eA','a']].plot(lw='5',alpha=0.5,grid=True,ax = ax2).legend(loc='upper right',ncol=2)"
   ]
  },
  {
   "cell_type": "code",
   "execution_count": 285,
   "metadata": {},
   "outputs": [
    {
     "name": "stdout",
     "output_type": "stream",
     "text": [
      "         eA   eK         a         k         y\n",
      "0 -0.003974  0.0 -0.003974  0.000000 -0.003974\n",
      "1 -0.003540  0.0 -0.006520 -0.000099 -0.006555\n",
      "2  0.000482  0.0 -0.004408 -0.000261 -0.004499\n",
      "3  0.003114  0.0 -0.000191 -0.000367 -0.000320\n",
      "4  0.001185  0.0  0.001041 -0.000366  0.000913\n",
      "5  0.008744  0.0  0.009525 -0.000334  0.009408\n",
      "6  0.009071  0.0  0.016215 -0.000090  0.016183\n",
      "7 -0.004548  0.0  0.007613  0.000317  0.007724\n",
      "8  0.006752  0.0  0.012462  0.000502  0.012637\n",
      "9 -0.006980  0.0  0.002366  0.000805  0.002648\n"
     ]
    }
   ],
   "source": [
    "# Compute stochastic simulation and print the simulated values.\n",
    "# seed=126, T=201,covMat= [[parameters['sigma_squared'],0],[0,0]]\n",
    "model.stoch_sim(seed=126,dropFirst=0,T=201,covMat= [[parameters['sigma_squared'],0],[0,0]])\n",
    "\n",
    "# Print first 10 rows of model.simulated\n",
    "print(model.simulated.head(10))"
   ]
  },
  {
   "cell_type": "code",
   "execution_count": 287,
   "metadata": {},
   "outputs": [
    {
     "data": {
      "text/plain": [
       "<matplotlib.legend.Legend at 0x101e987978>"
      ]
     },
     "execution_count": 287,
     "metadata": {},
     "output_type": "execute_result"
    },
    {
     "data": {
      "image/png": "[encoded data removed]",
      "text/plain": [
       "<Figure size 864x288 with 2 Axes>"
      ]
     },
     "metadata": {
      "needs_background": "light"
     },
     "output_type": "display_data"
    }
   ],
   "source": [
    "# Plot the computed stochastic simulation\n",
    "fig = plt.figure(figsize=(12,4))\n",
    "\n",
    "ax1 = fig.add_subplot(1,2,1)\n",
    "model.simulated[['a','y','k']].plot(lw='3',alpha=0.5,grid=True,ax = ax1).legend(loc='upper right',ncol=3)\n",
    "\n",
    "ax2 = fig.add_subplot(1,2,2)\n",
    "model.simulated[['a']].plot(lw='3',alpha=0.5,grid=True,ax = ax2).legend(loc='upper right',ncol=2)"
   ]
  },
  {
   "cell_type": "code",
   "execution_count": 289,
   "metadata": {},
   "outputs": [
    {
     "data": {
      "text/html": [
       "<div>\n",
       "<style scoped>\n",
       "    .dataframe tbody tr th:only-of-type {\n",
       "        vertical-align: middle;\n",
       "    }\n",
       "\n",
       "    .dataframe tbody tr th {\n",
       "        vertical-align: top;\n",
       "    }\n",
       "\n",
       "    .dataframe thead th {\n",
       "        text-align: right;\n",
       "    }\n",
       "</style>\n",
       "<table border=\"1\" class=\"dataframe\">\n",
       "  <thead>\n",
       "    <tr style=\"text-align: right;\">\n",
       "      <th></th>\n",
       "      <th>eA</th>\n",
       "      <th>eK</th>\n",
       "      <th>a</th>\n",
       "      <th>k</th>\n",
       "      <th>y</th>\n",
       "    </tr>\n",
       "  </thead>\n",
       "  <tbody>\n",
       "    <tr>\n",
       "      <th>0</th>\n",
       "      <td>-0.003974</td>\n",
       "      <td>0.0</td>\n",
       "      <td>-0.003974</td>\n",
       "      <td>0.000000</td>\n",
       "      <td>-0.003974</td>\n",
       "    </tr>\n",
       "    <tr>\n",
       "      <th>1</th>\n",
       "      <td>-0.003540</td>\n",
       "      <td>0.0</td>\n",
       "      <td>-0.006520</td>\n",
       "      <td>-0.000099</td>\n",
       "      <td>-0.006555</td>\n",
       "    </tr>\n",
       "    <tr>\n",
       "      <th>2</th>\n",
       "      <td>0.000482</td>\n",
       "      <td>0.0</td>\n",
       "      <td>-0.004408</td>\n",
       "      <td>-0.000261</td>\n",
       "      <td>-0.004499</td>\n",
       "    </tr>\n",
       "    <tr>\n",
       "      <th>3</th>\n",
       "      <td>0.003114</td>\n",
       "      <td>0.0</td>\n",
       "      <td>-0.000191</td>\n",
       "      <td>-0.000367</td>\n",
       "      <td>-0.000320</td>\n",
       "    </tr>\n",
       "    <tr>\n",
       "      <th>4</th>\n",
       "      <td>0.001185</td>\n",
       "      <td>0.0</td>\n",
       "      <td>0.001041</td>\n",
       "      <td>-0.000366</td>\n",
       "      <td>0.000913</td>\n",
       "    </tr>\n",
       "    <tr>\n",
       "      <th>5</th>\n",
       "      <td>0.008744</td>\n",
       "      <td>0.0</td>\n",
       "      <td>0.009525</td>\n",
       "      <td>-0.000334</td>\n",
       "      <td>0.009408</td>\n",
       "    </tr>\n",
       "    <tr>\n",
       "      <th>6</th>\n",
       "      <td>0.009071</td>\n",
       "      <td>0.0</td>\n",
       "      <td>0.016215</td>\n",
       "      <td>-0.000090</td>\n",
       "      <td>0.016183</td>\n",
       "    </tr>\n",
       "    <tr>\n",
       "      <th>7</th>\n",
       "      <td>-0.004548</td>\n",
       "      <td>0.0</td>\n",
       "      <td>0.007613</td>\n",
       "      <td>0.000317</td>\n",
       "      <td>0.007724</td>\n",
       "    </tr>\n",
       "    <tr>\n",
       "      <th>8</th>\n",
       "      <td>0.006752</td>\n",
       "      <td>0.0</td>\n",
       "      <td>0.012462</td>\n",
       "      <td>0.000502</td>\n",
       "      <td>0.012637</td>\n",
       "    </tr>\n",
       "    <tr>\n",
       "      <th>9</th>\n",
       "      <td>-0.006980</td>\n",
       "      <td>0.0</td>\n",
       "      <td>0.002366</td>\n",
       "      <td>0.000805</td>\n",
       "      <td>0.002648</td>\n",
       "    </tr>\n",
       "    <tr>\n",
       "      <th>10</th>\n",
       "      <td>0.007742</td>\n",
       "      <td>0.0</td>\n",
       "      <td>0.009516</td>\n",
       "      <td>0.000851</td>\n",
       "      <td>0.009814</td>\n",
       "    </tr>\n",
       "    <tr>\n",
       "      <th>11</th>\n",
       "      <td>-0.008506</td>\n",
       "      <td>0.0</td>\n",
       "      <td>-0.001368</td>\n",
       "      <td>0.001076</td>\n",
       "      <td>-0.000992</td>\n",
       "    </tr>\n",
       "    <tr>\n",
       "      <th>12</th>\n",
       "      <td>-0.001317</td>\n",
       "      <td>0.0</td>\n",
       "      <td>-0.002343</td>\n",
       "      <td>0.001024</td>\n",
       "      <td>-0.001985</td>\n",
       "    </tr>\n",
       "    <tr>\n",
       "      <th>13</th>\n",
       "      <td>-0.003368</td>\n",
       "      <td>0.0</td>\n",
       "      <td>-0.005125</td>\n",
       "      <td>0.000949</td>\n",
       "      <td>-0.004793</td>\n",
       "    </tr>\n",
       "    <tr>\n",
       "      <th>14</th>\n",
       "      <td>-0.005376</td>\n",
       "      <td>0.0</td>\n",
       "      <td>-0.009220</td>\n",
       "      <td>0.000805</td>\n",
       "      <td>-0.008938</td>\n",
       "    </tr>\n",
       "    <tr>\n",
       "      <th>15</th>\n",
       "      <td>0.004789</td>\n",
       "      <td>0.0</td>\n",
       "      <td>-0.002126</td>\n",
       "      <td>0.000561</td>\n",
       "      <td>-0.001929</td>\n",
       "    </tr>\n",
       "    <tr>\n",
       "      <th>16</th>\n",
       "      <td>0.010197</td>\n",
       "      <td>0.0</td>\n",
       "      <td>0.008602</td>\n",
       "      <td>0.000499</td>\n",
       "      <td>0.008777</td>\n",
       "    </tr>\n",
       "    <tr>\n",
       "      <th>17</th>\n",
       "      <td>0.000219</td>\n",
       "      <td>0.0</td>\n",
       "      <td>0.006671</td>\n",
       "      <td>0.000706</td>\n",
       "      <td>0.006918</td>\n",
       "    </tr>\n",
       "    <tr>\n",
       "      <th>18</th>\n",
       "      <td>-0.007483</td>\n",
       "      <td>0.0</td>\n",
       "      <td>-0.002480</td>\n",
       "      <td>0.000861</td>\n",
       "      <td>-0.002179</td>\n",
       "    </tr>\n",
       "    <tr>\n",
       "      <th>19</th>\n",
       "      <td>0.003552</td>\n",
       "      <td>0.0</td>\n",
       "      <td>0.001691</td>\n",
       "      <td>0.000785</td>\n",
       "      <td>0.001966</td>\n",
       "    </tr>\n",
       "    <tr>\n",
       "      <th>20</th>\n",
       "      <td>0.003320</td>\n",
       "      <td>0.0</td>\n",
       "      <td>0.004588</td>\n",
       "      <td>0.000815</td>\n",
       "      <td>0.004873</td>\n",
       "    </tr>\n",
       "    <tr>\n",
       "      <th>21</th>\n",
       "      <td>-0.014745</td>\n",
       "      <td>0.0</td>\n",
       "      <td>-0.011304</td>\n",
       "      <td>0.000916</td>\n",
       "      <td>-0.010983</td>\n",
       "    </tr>\n",
       "    <tr>\n",
       "      <th>22</th>\n",
       "      <td>-0.008418</td>\n",
       "      <td>0.0</td>\n",
       "      <td>-0.016896</td>\n",
       "      <td>0.000619</td>\n",
       "      <td>-0.016679</td>\n",
       "    </tr>\n",
       "    <tr>\n",
       "      <th>23</th>\n",
       "      <td>0.001130</td>\n",
       "      <td>0.0</td>\n",
       "      <td>-0.011542</td>\n",
       "      <td>0.000186</td>\n",
       "      <td>-0.011477</td>\n",
       "    </tr>\n",
       "    <tr>\n",
       "      <th>24</th>\n",
       "      <td>-0.002582</td>\n",
       "      <td>0.0</td>\n",
       "      <td>-0.011239</td>\n",
       "      <td>-0.000105</td>\n",
       "      <td>-0.011275</td>\n",
       "    </tr>\n",
       "    <tr>\n",
       "      <th>25</th>\n",
       "      <td>-0.000049</td>\n",
       "      <td>0.0</td>\n",
       "      <td>-0.008478</td>\n",
       "      <td>-0.000384</td>\n",
       "      <td>-0.008613</td>\n",
       "    </tr>\n",
       "    <tr>\n",
       "      <th>26</th>\n",
       "      <td>-0.006198</td>\n",
       "      <td>0.0</td>\n",
       "      <td>-0.012557</td>\n",
       "      <td>-0.000590</td>\n",
       "      <td>-0.012763</td>\n",
       "    </tr>\n",
       "    <tr>\n",
       "      <th>27</th>\n",
       "      <td>0.008007</td>\n",
       "      <td>0.0</td>\n",
       "      <td>-0.001411</td>\n",
       "      <td>-0.000894</td>\n",
       "      <td>-0.001724</td>\n",
       "    </tr>\n",
       "    <tr>\n",
       "      <th>28</th>\n",
       "      <td>-0.002284</td>\n",
       "      <td>0.0</td>\n",
       "      <td>-0.003342</td>\n",
       "      <td>-0.000915</td>\n",
       "      <td>-0.003663</td>\n",
       "    </tr>\n",
       "    <tr>\n",
       "      <th>29</th>\n",
       "      <td>0.013094</td>\n",
       "      <td>0.0</td>\n",
       "      <td>0.010587</td>\n",
       "      <td>-0.000984</td>\n",
       "      <td>0.010243</td>\n",
       "    </tr>\n",
       "    <tr>\n",
       "      <th>...</th>\n",
       "      <td>...</td>\n",
       "      <td>...</td>\n",
       "      <td>...</td>\n",
       "      <td>...</td>\n",
       "      <td>...</td>\n",
       "    </tr>\n",
       "    <tr>\n",
       "      <th>171</th>\n",
       "      <td>0.001222</td>\n",
       "      <td>0.0</td>\n",
       "      <td>0.000855</td>\n",
       "      <td>0.002200</td>\n",
       "      <td>0.001625</td>\n",
       "    </tr>\n",
       "    <tr>\n",
       "      <th>172</th>\n",
       "      <td>-0.002642</td>\n",
       "      <td>0.0</td>\n",
       "      <td>-0.002001</td>\n",
       "      <td>0.002185</td>\n",
       "      <td>-0.001236</td>\n",
       "    </tr>\n",
       "    <tr>\n",
       "      <th>173</th>\n",
       "      <td>-0.007570</td>\n",
       "      <td>0.0</td>\n",
       "      <td>-0.009071</td>\n",
       "      <td>0.002100</td>\n",
       "      <td>-0.008336</td>\n",
       "    </tr>\n",
       "    <tr>\n",
       "      <th>174</th>\n",
       "      <td>-0.001241</td>\n",
       "      <td>0.0</td>\n",
       "      <td>-0.008044</td>\n",
       "      <td>0.001839</td>\n",
       "      <td>-0.007401</td>\n",
       "    </tr>\n",
       "    <tr>\n",
       "      <th>175</th>\n",
       "      <td>-0.007205</td>\n",
       "      <td>0.0</td>\n",
       "      <td>-0.013238</td>\n",
       "      <td>0.001608</td>\n",
       "      <td>-0.012676</td>\n",
       "    </tr>\n",
       "    <tr>\n",
       "      <th>176</th>\n",
       "      <td>0.006139</td>\n",
       "      <td>0.0</td>\n",
       "      <td>-0.003790</td>\n",
       "      <td>0.001251</td>\n",
       "      <td>-0.003352</td>\n",
       "    </tr>\n",
       "    <tr>\n",
       "      <th>177</th>\n",
       "      <td>-0.005358</td>\n",
       "      <td>0.0</td>\n",
       "      <td>-0.008201</td>\n",
       "      <td>0.001136</td>\n",
       "      <td>-0.007803</td>\n",
       "    </tr>\n",
       "    <tr>\n",
       "      <th>178</th>\n",
       "      <td>-0.006107</td>\n",
       "      <td>0.0</td>\n",
       "      <td>-0.012258</td>\n",
       "      <td>0.000912</td>\n",
       "      <td>-0.011939</td>\n",
       "    </tr>\n",
       "    <tr>\n",
       "      <th>179</th>\n",
       "      <td>-0.003128</td>\n",
       "      <td>0.0</td>\n",
       "      <td>-0.012321</td>\n",
       "      <td>0.000591</td>\n",
       "      <td>-0.012114</td>\n",
       "    </tr>\n",
       "    <tr>\n",
       "      <th>180</th>\n",
       "      <td>-0.001436</td>\n",
       "      <td>0.0</td>\n",
       "      <td>-0.010677</td>\n",
       "      <td>0.000273</td>\n",
       "      <td>-0.010581</td>\n",
       "    </tr>\n",
       "    <tr>\n",
       "      <th>181</th>\n",
       "      <td>0.002691</td>\n",
       "      <td>0.0</td>\n",
       "      <td>-0.005316</td>\n",
       "      <td>0.000002</td>\n",
       "      <td>-0.005315</td>\n",
       "    </tr>\n",
       "    <tr>\n",
       "      <th>182</th>\n",
       "      <td>0.008155</td>\n",
       "      <td>0.0</td>\n",
       "      <td>0.004168</td>\n",
       "      <td>-0.000131</td>\n",
       "      <td>0.004122</td>\n",
       "    </tr>\n",
       "    <tr>\n",
       "      <th>183</th>\n",
       "      <td>0.009076</td>\n",
       "      <td>0.0</td>\n",
       "      <td>0.012202</td>\n",
       "      <td>-0.000025</td>\n",
       "      <td>0.012193</td>\n",
       "    </tr>\n",
       "    <tr>\n",
       "      <th>184</th>\n",
       "      <td>-0.004746</td>\n",
       "      <td>0.0</td>\n",
       "      <td>0.004405</td>\n",
       "      <td>0.000281</td>\n",
       "      <td>0.004503</td>\n",
       "    </tr>\n",
       "    <tr>\n",
       "      <th>185</th>\n",
       "      <td>0.002037</td>\n",
       "      <td>0.0</td>\n",
       "      <td>0.005340</td>\n",
       "      <td>0.000386</td>\n",
       "      <td>0.005476</td>\n",
       "    </tr>\n",
       "    <tr>\n",
       "      <th>186</th>\n",
       "      <td>-0.003175</td>\n",
       "      <td>0.0</td>\n",
       "      <td>0.000830</td>\n",
       "      <td>0.000514</td>\n",
       "      <td>0.001010</td>\n",
       "    </tr>\n",
       "    <tr>\n",
       "      <th>187</th>\n",
       "      <td>-0.009623</td>\n",
       "      <td>0.0</td>\n",
       "      <td>-0.009000</td>\n",
       "      <td>0.000526</td>\n",
       "      <td>-0.008816</td>\n",
       "    </tr>\n",
       "    <tr>\n",
       "      <th>188</th>\n",
       "      <td>0.000785</td>\n",
       "      <td>0.0</td>\n",
       "      <td>-0.005965</td>\n",
       "      <td>0.000293</td>\n",
       "      <td>-0.005863</td>\n",
       "    </tr>\n",
       "    <tr>\n",
       "      <th>189</th>\n",
       "      <td>-0.008261</td>\n",
       "      <td>0.0</td>\n",
       "      <td>-0.012735</td>\n",
       "      <td>0.000139</td>\n",
       "      <td>-0.012687</td>\n",
       "    </tr>\n",
       "    <tr>\n",
       "      <th>190</th>\n",
       "      <td>-0.008088</td>\n",
       "      <td>0.0</td>\n",
       "      <td>-0.017639</td>\n",
       "      <td>-0.000182</td>\n",
       "      <td>-0.017703</td>\n",
       "    </tr>\n",
       "    <tr>\n",
       "      <th>191</th>\n",
       "      <td>-0.005852</td>\n",
       "      <td>0.0</td>\n",
       "      <td>-0.019082</td>\n",
       "      <td>-0.000620</td>\n",
       "      <td>-0.019299</td>\n",
       "    </tr>\n",
       "    <tr>\n",
       "      <th>192</th>\n",
       "      <td>0.003624</td>\n",
       "      <td>0.0</td>\n",
       "      <td>-0.010687</td>\n",
       "      <td>-0.001087</td>\n",
       "      <td>-0.011068</td>\n",
       "    </tr>\n",
       "    <tr>\n",
       "      <th>193</th>\n",
       "      <td>0.001515</td>\n",
       "      <td>0.0</td>\n",
       "      <td>-0.006500</td>\n",
       "      <td>-0.001337</td>\n",
       "      <td>-0.006968</td>\n",
       "    </tr>\n",
       "    <tr>\n",
       "      <th>194</th>\n",
       "      <td>-0.006251</td>\n",
       "      <td>0.0</td>\n",
       "      <td>-0.011126</td>\n",
       "      <td>-0.001477</td>\n",
       "      <td>-0.011643</td>\n",
       "    </tr>\n",
       "    <tr>\n",
       "      <th>195</th>\n",
       "      <td>0.001893</td>\n",
       "      <td>0.0</td>\n",
       "      <td>-0.006452</td>\n",
       "      <td>-0.001731</td>\n",
       "      <td>-0.007058</td>\n",
       "    </tr>\n",
       "    <tr>\n",
       "      <th>196</th>\n",
       "      <td>0.005238</td>\n",
       "      <td>0.0</td>\n",
       "      <td>0.000399</td>\n",
       "      <td>-0.001865</td>\n",
       "      <td>-0.000254</td>\n",
       "    </tr>\n",
       "    <tr>\n",
       "      <th>197</th>\n",
       "      <td>0.010276</td>\n",
       "      <td>0.0</td>\n",
       "      <td>0.010575</td>\n",
       "      <td>-0.001824</td>\n",
       "      <td>0.009936</td>\n",
       "    </tr>\n",
       "    <tr>\n",
       "      <th>198</th>\n",
       "      <td>-0.005029</td>\n",
       "      <td>0.0</td>\n",
       "      <td>0.002902</td>\n",
       "      <td>-0.001530</td>\n",
       "      <td>0.002367</td>\n",
       "    </tr>\n",
       "    <tr>\n",
       "      <th>199</th>\n",
       "      <td>-0.000530</td>\n",
       "      <td>0.0</td>\n",
       "      <td>0.001647</td>\n",
       "      <td>-0.001433</td>\n",
       "      <td>0.001146</td>\n",
       "    </tr>\n",
       "    <tr>\n",
       "      <th>200</th>\n",
       "      <td>0.005837</td>\n",
       "      <td>0.0</td>\n",
       "      <td>0.007073</td>\n",
       "      <td>-0.001368</td>\n",
       "      <td>0.006594</td>\n",
       "    </tr>\n",
       "  </tbody>\n",
       "</table>\n",
       "<p>201 rows × 5 columns</p>\n",
       "</div>"
      ],
      "text/plain": [
       "           eA   eK         a         k         y\n",
       "0   -0.003974  0.0 -0.003974  0.000000 -0.003974\n",
       "1   -0.003540  0.0 -0.006520 -0.000099 -0.006555\n",
       "2    0.000482  0.0 -0.004408 -0.000261 -0.004499\n",
       "3    0.003114  0.0 -0.000191 -0.000367 -0.000320\n",
       "4    0.001185  0.0  0.001041 -0.000366  0.000913\n",
       "5    0.008744  0.0  0.009525 -0.000334  0.009408\n",
       "6    0.009071  0.0  0.016215 -0.000090  0.016183\n",
       "7   -0.004548  0.0  0.007613  0.000317  0.007724\n",
       "8    0.006752  0.0  0.012462  0.000502  0.012637\n",
       "9   -0.006980  0.0  0.002366  0.000805  0.002648\n",
       "10   0.007742  0.0  0.009516  0.000851  0.009814\n",
       "11  -0.008506  0.0 -0.001368  0.001076 -0.000992\n",
       "12  -0.001317  0.0 -0.002343  0.001024 -0.001985\n",
       "13  -0.003368  0.0 -0.005125  0.000949 -0.004793\n",
       "14  -0.005376  0.0 -0.009220  0.000805 -0.008938\n",
       "15   0.004789  0.0 -0.002126  0.000561 -0.001929\n",
       "16   0.010197  0.0  0.008602  0.000499  0.008777\n",
       "17   0.000219  0.0  0.006671  0.000706  0.006918\n",
       "18  -0.007483  0.0 -0.002480  0.000861 -0.002179\n",
       "19   0.003552  0.0  0.001691  0.000785  0.001966\n",
       "20   0.003320  0.0  0.004588  0.000815  0.004873\n",
       "21  -0.014745  0.0 -0.011304  0.000916 -0.010983\n",
       "22  -0.008418  0.0 -0.016896  0.000619 -0.016679\n",
       "23   0.001130  0.0 -0.011542  0.000186 -0.011477\n",
       "24  -0.002582  0.0 -0.011239 -0.000105 -0.011275\n",
       "25  -0.000049  0.0 -0.008478 -0.000384 -0.008613\n",
       "26  -0.006198  0.0 -0.012557 -0.000590 -0.012763\n",
       "27   0.008007  0.0 -0.001411 -0.000894 -0.001724\n",
       "28  -0.002284  0.0 -0.003342 -0.000915 -0.003663\n",
       "29   0.013094  0.0  0.010587 -0.000984  0.010243\n",
       "..        ...  ...       ...       ...       ...\n",
       "171  0.001222  0.0  0.000855  0.002200  0.001625\n",
       "172 -0.002642  0.0 -0.002001  0.002185 -0.001236\n",
       "173 -0.007570  0.0 -0.009071  0.002100 -0.008336\n",
       "174 -0.001241  0.0 -0.008044  0.001839 -0.007401\n",
       "175 -0.007205  0.0 -0.013238  0.001608 -0.012676\n",
       "176  0.006139  0.0 -0.003790  0.001251 -0.003352\n",
       "177 -0.005358  0.0 -0.008201  0.001136 -0.007803\n",
       "178 -0.006107  0.0 -0.012258  0.000912 -0.011939\n",
       "179 -0.003128  0.0 -0.012321  0.000591 -0.012114\n",
       "180 -0.001436  0.0 -0.010677  0.000273 -0.010581\n",
       "181  0.002691  0.0 -0.005316  0.000002 -0.005315\n",
       "182  0.008155  0.0  0.004168 -0.000131  0.004122\n",
       "183  0.009076  0.0  0.012202 -0.000025  0.012193\n",
       "184 -0.004746  0.0  0.004405  0.000281  0.004503\n",
       "185  0.002037  0.0  0.005340  0.000386  0.005476\n",
       "186 -0.003175  0.0  0.000830  0.000514  0.001010\n",
       "187 -0.009623  0.0 -0.009000  0.000526 -0.008816\n",
       "188  0.000785  0.0 -0.005965  0.000293 -0.005863\n",
       "189 -0.008261  0.0 -0.012735  0.000139 -0.012687\n",
       "190 -0.008088  0.0 -0.017639 -0.000182 -0.017703\n",
       "191 -0.005852  0.0 -0.019082 -0.000620 -0.019299\n",
       "192  0.003624  0.0 -0.010687 -0.001087 -0.011068\n",
       "193  0.001515  0.0 -0.006500 -0.001337 -0.006968\n",
       "194 -0.006251  0.0 -0.011126 -0.001477 -0.011643\n",
       "195  0.001893  0.0 -0.006452 -0.001731 -0.007058\n",
       "196  0.005238  0.0  0.000399 -0.001865 -0.000254\n",
       "197  0.010276  0.0  0.010575 -0.001824  0.009936\n",
       "198 -0.005029  0.0  0.002902 -0.001530  0.002367\n",
       "199 -0.000530  0.0  0.001647 -0.001433  0.001146\n",
       "200  0.005837  0.0  0.007073 -0.001368  0.006594\n",
       "\n",
       "[201 rows x 5 columns]"
      ]
     },
     "execution_count": 289,
     "metadata": {},
     "output_type": "execute_result"
    }
   ],
   "source": [
    "# Compute correlations of simulated endogenous variables\n",
    "model.simulated"
   ]
  },
  {
   "cell_type": "code",
   "execution_count": 290,
   "metadata": {},
   "outputs": [],
   "source": [
    "# Compute standard deviations of simulated endogenous variables"
   ]
  }
 ],
 "metadata": {
  "anaconda-cloud": {},
  "kernelspec": {
   "display_name": "Python 3",
   "language": "python",
   "name": "python3"
  },
  "language_info": {
   "codemirror_mode": {
    "name": "ipython",
    "version": 3
   },
   "file_extension": ".py",
   "mimetype": "text/x-python",
   "name": "python",
   "nbconvert_exporter": "python",
   "pygments_lexer": "ipython3",
   "version": "3.7.1"
  }
 },
 "nbformat": 4,
 "nbformat_minor": 1
}
